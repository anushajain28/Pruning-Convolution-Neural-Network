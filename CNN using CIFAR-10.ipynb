{
  "nbformat": 4,
  "nbformat_minor": 0,
  "metadata": {
    "colab": {
      "name": "Assignment 4.ipynb",
      "version": "0.3.2",
      "provenance": [],
      "collapsed_sections": [],
      "toc_visible": true
    },
    "kernelspec": {
      "name": "python3",
      "display_name": "Python 3"
    },
    "accelerator": "GPU"
  },
  "cells": [
    {
      "metadata": {
        "id": "hzlw8De-D0HJ",
        "colab_type": "text"
      },
      "cell_type": "markdown",
      "source": [
        "## Assignment 4\n",
        "- Working on project dataset (Image Classification using CNN TensorFlow)\n",
        "- This notebook will run only on Google Colab(https://colab.research.google.com/notebooks/welcome.ipynb)\n",
        "- Datasets must be uploaded on a google drive in order to access the data\n",
        "\n"
      ]
    },
    {
      "metadata": {
        "id": "Qur3PpkPyKkX",
        "colab_type": "code",
        "outputId": "8e3d7068-eefb-4cb0-c08e-1a00425b0f8b",
        "colab": {
          "base_uri": "https://localhost:8080/",
          "height": 295
        }
      },
      "cell_type": "code",
      "source": [
        "# Installing and authenticating google drive\n",
        "!pip install -U -q PyDrive\n",
        "import os\n",
        "from pydrive.auth import GoogleAuth\n",
        "from pydrive.drive import GoogleDrive\n",
        "from google.colab import auth\n",
        "from oauth2client.client import GoogleCredentials\n",
        "\n",
        "# 1. Authenticate and create the PyDrive client.\n",
        "auth.authenticate_user()\n",
        "gauth = GoogleAuth()\n",
        "gauth.credentials = GoogleCredentials.get_application_default()\n",
        "drive = GoogleDrive(gauth)\n",
        "\n",
        "# choose a local (colab) directory to store the data.\n",
        "local_download_path = os.path.expanduser('~/data')\n",
        "try:\n",
        "  os.makedirs(local_download_path)\n",
        "except: pass\n",
        "\n",
        "# 2. Auto-iterate using the query syntax\n",
        "#    https://developers.google.com/drive/v2/web/search-parameters\n",
        "file_list = drive.ListFile(\n",
        "    {'q': \"'1Ib82znOK1oo1i7CxH7H-POrLX2PmvAMB' in parents\"}).GetList()\n",
        "\n",
        "for f in file_list:\n",
        "  # 3. Create & download by id.\n",
        "  print('title: %s, id: %s' % (f['title'], f['id']))\n",
        "  fname = os.path.join(local_download_path, f['title'])\n",
        "  print('downloading to {}'.format(fname))\n",
        "  f_ = drive.CreateFile({'id': f['id']})\n",
        "  f_.GetContentFile(fname)"
      ],
      "execution_count": 0,
      "outputs": [
        {
          "output_type": "stream",
          "text": [
            "title: test_batch, id: 1MxsYu6tR3CfV-fEECPeq99weyFjPRXvZ\n",
            "downloading to /root/data/test_batch\n",
            "title: data_batch_5, id: 1ZRcoKf2B1MsudllHbDKmuL1dMPKHVzWA\n",
            "downloading to /root/data/data_batch_5\n",
            "title: data_batch_4, id: 1y8-ag_FgBgG0gF8nMGbGNMbexTHjx87Q\n",
            "downloading to /root/data/data_batch_4\n",
            "title: data_batch_3, id: 19OQ7qW5NDeTgFkmAcSODQqO_1H4D8q9H\n",
            "downloading to /root/data/data_batch_3\n",
            "title: data_batch_2, id: 1bZWyvbhjJQaiogS6duUVa3BogzQ8uLpv\n",
            "downloading to /root/data/data_batch_2\n",
            "title: data_batch_1, id: 1RyPgX76WWA9s5lp_mgvkutu1YX6nxVgK\n",
            "downloading to /root/data/data_batch_1\n",
            "title: readme.html, id: 1T-hi6jdKznTPg57kBAjt-kAMfXIOiWAT\n",
            "downloading to /root/data/readme.html\n",
            "title: batches.meta, id: 1NWysd8WYjKlKSyDo1NbN79slyNZJOS_9\n",
            "downloading to /root/data/batches.meta\n"
          ],
          "name": "stdout"
        }
      ]
    },
    {
      "metadata": {
        "id": "eRK3SKX33EIX",
        "colab_type": "code",
        "colab": {}
      },
      "cell_type": "code",
      "source": [
        "# Define a function to unpickle the CIFAR dataset\n",
        "def unpickle(file):\n",
        "    import pickle\n",
        "    with open(file, 'rb') as fo:\n",
        "        cifar_dict = pickle.load(fo, encoding='bytes')\n",
        "    return cifar_dict"
      ],
      "execution_count": 0,
      "outputs": []
    },
    {
      "metadata": {
        "id": "6BQxogvu5Bng",
        "colab_type": "code",
        "colab": {}
      },
      "cell_type": "code",
      "source": [
        "CIFAR_DIR = '/root/data/'\n",
        "dirs = ['batches.meta','data_batch_1','data_batch_2','data_batch_3','data_batch_4','data_batch_5','test_batch']\n",
        "all_data = [0,1,2,3,4,5,6]\n",
        "for i,direc in zip(all_data,dirs):\n",
        "    all_data[i] = unpickle(CIFAR_DIR+direc)"
      ],
      "execution_count": 0,
      "outputs": []
    },
    {
      "metadata": {
        "id": "Gjvi-dO95ByN",
        "colab_type": "code",
        "colab": {}
      },
      "cell_type": "code",
      "source": [
        "batch_meta = all_data[0]\n",
        "data_batch1 = all_data[1]\n",
        "data_batch2 = all_data[2]\n",
        "data_batch3 = all_data[3]\n",
        "data_batch4 = all_data[4]\n",
        "data_batch5 = all_data[5]\n",
        "test_batch = all_data[6]"
      ],
      "execution_count": 0,
      "outputs": []
    },
    {
      "metadata": {
        "id": "K3Tz3GJF5B0f",
        "colab_type": "code",
        "outputId": "d8b2b1f5-707b-4dea-bc0d-50d9548e766f",
        "colab": {
          "base_uri": "https://localhost:8080/",
          "height": 225
        }
      },
      "cell_type": "code",
      "source": [
        "batch_meta"
      ],
      "execution_count": 0,
      "outputs": [
        {
          "output_type": "execute_result",
          "data": {
            "text/plain": [
              "{b'label_names': [b'airplane',\n",
              "  b'automobile',\n",
              "  b'bird',\n",
              "  b'cat',\n",
              "  b'deer',\n",
              "  b'dog',\n",
              "  b'frog',\n",
              "  b'horse',\n",
              "  b'ship',\n",
              "  b'truck'],\n",
              " b'num_cases_per_batch': 10000,\n",
              " b'num_vis': 3072}"
            ]
          },
          "metadata": {
            "tags": []
          },
          "execution_count": 5
        }
      ]
    },
    {
      "metadata": {
        "id": "sDIdZ2p25B47",
        "colab_type": "code",
        "outputId": "f9428900-9d7d-4814-9b9d-493bfae37435",
        "colab": {
          "base_uri": "https://localhost:8080/",
          "height": 35
        }
      },
      "cell_type": "code",
      "source": [
        "data_batch1.keys()"
      ],
      "execution_count": 0,
      "outputs": [
        {
          "output_type": "execute_result",
          "data": {
            "text/plain": [
              "dict_keys([b'batch_label', b'labels', b'data', b'filenames'])"
            ]
          },
          "metadata": {
            "tags": []
          },
          "execution_count": 6
        }
      ]
    },
    {
      "metadata": {
        "id": "cbFDrwE95B7n",
        "colab_type": "code",
        "colab": {}
      },
      "cell_type": "code",
      "source": [
        "import matplotlib.pyplot as plt\n",
        "%matplotlib inline\n",
        "\n",
        "import numpy as np"
      ],
      "execution_count": 0,
      "outputs": []
    },
    {
      "metadata": {
        "id": "D57HpKUA9ESe",
        "colab_type": "code",
        "colab": {}
      },
      "cell_type": "code",
      "source": [
        "def one_hot_encode(vec, vals=10):\n",
        "    '''\n",
        "    encoding the 10- possible labels\n",
        "    '''\n",
        "    n = len(vec)\n",
        "    out = np.zeros((n, vals))\n",
        "    out[range(n), vec] = 1\n",
        "    return out"
      ],
      "execution_count": 0,
      "outputs": []
    },
    {
      "metadata": {
        "id": "v27Km9ff9EQ8",
        "colab_type": "code",
        "colab": {}
      },
      "cell_type": "code",
      "source": [
        "# Creating helper functions\n",
        "class CifarHelper():\n",
        "    \n",
        "    def __init__(self):\n",
        "        self.i = 0\n",
        "        \n",
        "        self.all_train_batches = [data_batch1,data_batch2,data_batch3,data_batch4,data_batch5]\n",
        "        self.test_batch = [test_batch]\n",
        "        \n",
        "        self.training_images = None\n",
        "        self.training_labels = None\n",
        "        \n",
        "        self.test_images = None\n",
        "        self.test_labels = None\n",
        "    \n",
        "    def set_up_images(self):\n",
        "        \n",
        "        print(\"Setting Up Training Images and Labels\")\n",
        "        \n",
        "        self.training_images = np.vstack([d[b\"data\"] for d in self.all_train_batches])\n",
        "        train_len = len(self.training_images)\n",
        "        \n",
        "        self.training_images = self.training_images.reshape(train_len,3,32,32).transpose(0,2,3,1)/255\n",
        "        self.training_labels = one_hot_encode(np.hstack([d[b\"labels\"] for d in self.all_train_batches]), 10)\n",
        "        \n",
        "        print(\"Setting Up Test Images and Labels\")\n",
        "        \n",
        "        self.test_images = np.vstack([d[b\"data\"] for d in self.test_batch])\n",
        "        test_len = len(self.test_images)\n",
        "        \n",
        "        self.test_images = self.test_images.reshape(test_len,3,32,32).transpose(0,2,3,1)/255\n",
        "        self.test_labels = one_hot_encode(np.hstack([d[b\"labels\"] for d in self.test_batch]), 10)\n",
        "\n",
        "\n",
        "        \n",
        "    def next_batch(self, batch_size):\n",
        "        x = self.training_images[self.i:self.i+batch_size].reshape(100,32,32,3)\n",
        "        y = self.training_labels[self.i:self.i+batch_size]\n",
        "        self.i = (self.i + batch_size) % len(self.training_images)\n",
        "        return x, y"
      ],
      "execution_count": 0,
      "outputs": []
    },
    {
      "metadata": {
        "id": "vNlkd0O-9EMM",
        "colab_type": "code",
        "outputId": "8ac86d84-8a49-4e26-86df-d9076c99d56d",
        "colab": {
          "base_uri": "https://localhost:8080/",
          "height": 52
        }
      },
      "cell_type": "code",
      "source": [
        "# Initialize the images to setup the training and test images and labels\n",
        "ch = CifarHelper()\n",
        "ch.set_up_images()"
      ],
      "execution_count": 0,
      "outputs": [
        {
          "output_type": "stream",
          "text": [
            "Setting Up Training Images and Labels\n",
            "Setting Up Test Images and Labels\n"
          ],
          "name": "stdout"
        }
      ]
    },
    {
      "metadata": {
        "id": "AKdL9kvY9EH9",
        "colab_type": "code",
        "colab": {}
      },
      "cell_type": "code",
      "source": [
        "# Creating Placeholders for input Images, True lables and hold probability\n",
        "import tensorflow as tf\n",
        "x = tf.placeholder(tf.float32,shape=[None,32,32,3])\n",
        "y_true = tf.placeholder(tf.float32,shape=[None,10])\n",
        "hold_prob = tf.placeholder(tf.float32)"
      ],
      "execution_count": 0,
      "outputs": []
    },
    {
      "metadata": {
        "id": "rN_QIGA99ECm",
        "colab_type": "code",
        "colab": {}
      },
      "cell_type": "code",
      "source": [
        "# Creating tensorflow variable for weights\n",
        "def init_weights(shape):\n",
        "    init_random_dist = tf.truncated_normal(shape, stddev=0.1)\n",
        "    return tf.Variable(init_random_dist)\n",
        "\n",
        "# Creating tensorflow variable for biases\n",
        "def init_bias(shape):\n",
        "    init_bias_vals = tf.constant(0.1, shape=shape)\n",
        "    return tf.Variable(init_bias_vals)\n",
        "\n",
        "# Creating a function to compute the 2-D convolution\n",
        "def conv2d(x, W):\n",
        "    return tf.nn.conv2d(x, W, strides=[1, 1, 1, 1], padding='SAME')\n",
        "\n",
        "# Defining max pooling \n",
        "def max_pool_2by2(x):\n",
        "    return tf.nn.max_pool(x, ksize=[1, 2, 2, 1],\n",
        "                          strides=[1, 2, 2, 1], padding='SAME')\n",
        "\n",
        "# Creating convolution layer with relu, selus and leaky_relu as an activation function\n",
        "def convolutional_layer(input_x, shape, acti_func):\n",
        "    W = init_weights(shape)\n",
        "    b = init_bias([shape[3]])\n",
        "    if acti_func == 'relu':\n",
        "      return tf.nn.relu(conv2d(input_x, W) + b)\n",
        "    if acti_func == 'selu':\n",
        "      return tf.nn.selu(conv2d(input_x, W) + b)\n",
        "    if acti_func == 'leaky relu':\n",
        "      return tf.nn.leaky_relu((conv2d(input_x, W) + b),alpha=0.2)\n",
        "\n",
        "# Creating a function for fully connected network\n",
        "def normal_full_layer(input_layer, size):\n",
        "    input_size = int(input_layer.get_shape()[1])\n",
        "    W = init_weights([input_size, size])\n",
        "    b = init_bias([size])\n",
        "    return tf.matmul(input_layer, W) + b"
      ],
      "execution_count": 0,
      "outputs": []
    },
    {
      "metadata": {
        "id": "pmPsCYMVeXNc",
        "colab_type": "code",
        "outputId": "3f308e91-fb38-45a6-8474-ea71fdb48152",
        "colab": {
          "base_uri": "https://localhost:8080/",
          "height": 563
        }
      },
      "cell_type": "code",
      "source": [
        "convo_1 = convolutional_layer(input_x = x,shape=[4,4,3,32],acti_func = 'relu')\n",
        "convo_1_pooling = max_pool_2by2(convo_1)\n",
        "convo_2 = convolutional_layer(input_x = convo_1_pooling,shape=[4,4,32,64],acti_func = 'relu')\n",
        "convo_2_pooling = max_pool_2by2(convo_2)\n",
        "convo_2_flat = tf.reshape(convo_2_pooling,[-1,8*8*64])\n",
        "full_layer_one = tf.nn.relu(normal_full_layer(convo_2_flat,1024))\n",
        "full_one_dropout = tf.nn.dropout(full_layer_one,keep_prob=hold_prob)\n",
        "y_pred = normal_full_layer(full_one_dropout,10)\n",
        "cross_entropy = tf.reduce_mean(tf.nn.softmax_cross_entropy_with_logits(labels=y_true,logits=y_pred))\n",
        "optimizer = tf.train.AdamOptimizer(learning_rate=0.001)\n",
        "train = optimizer.minimize(cross_entropy)\n",
        "init = tf.global_variables_initializer()\n",
        "saver = tf.train.Saver()\n",
        "\n",
        "# Creating a session to run all the function in sequence\n",
        "with tf.Session() as sess:\n",
        "  sess.run(tf.global_variables_initializer()) # Initializing global variables to activate all the variables\n",
        "  epochs =[]\n",
        "  accuracy =[]\n",
        "  #for epochs in range(epochs)\n",
        "  for i in range(5000):\n",
        "      batch = ch.next_batch(100)\n",
        "      sess.run(train, feed_dict={x: batch[0], y_true: batch[1], hold_prob: 0.5})\n",
        "\n",
        "      # PRINT OUT A MESSAGE EVERY 100 STEPS\n",
        "      if i%1000 == 0:\n",
        "\n",
        "          print('Currently on step {}'.format(i))\n",
        "          #print('Accuracy is:')\n",
        "          # Test the Train Model\n",
        "          matches = tf.equal(tf.argmax(y_pred,1),tf.argmax(y_true,1))\n",
        "\n",
        "          acc = tf.reduce_mean(tf.cast(matches,tf.float32))\n",
        "          test_acc = sess.run(acc,feed_dict={x:ch.test_images,y_true:ch.test_labels,hold_prob:1.0})\n",
        "          epochs.append(i)\n",
        "          accuracy.append(test_acc)\n",
        "          #print(test_acc)\n",
        "          \n",
        "          #print('\\n')\n",
        "  print(\"epochs: \",epochs)\n",
        "  print(\"accuracy: \",accuracy)\n",
        "  plt.plot(epochs,accuracy )\n",
        "  plt.xlabel(\"No. of epochs\")\n",
        "  plt.ylabel(\"Model accuracy\")\n",
        "  plt.show()\n",
        "  \n",
        "  # save checkpoint of the model\n",
        "  #checkpoint_name = os.path.join(\"model_checkpoint\", 'model_epoch' + str(epoch + 1) + '.ckpt')\n",
        "  #saver.save(sess, './my_first_model.ckpt')\n",
        "\n"
      ],
      "execution_count": 0,
      "outputs": [
        {
          "output_type": "stream",
          "text": [
            "WARNING:tensorflow:From <ipython-input-13-d31d9cfe43c1>:9: softmax_cross_entropy_with_logits (from tensorflow.python.ops.nn_ops) is deprecated and will be removed in a future version.\n",
            "Instructions for updating:\n",
            "\n",
            "Future major versions of TensorFlow will allow gradients to flow\n",
            "into the labels input on backprop by default.\n",
            "\n",
            "See `tf.nn.softmax_cross_entropy_with_logits_v2`.\n",
            "\n",
            "Currently on step 0\n",
            "Currently on step 1000\n",
            "Currently on step 2000\n",
            "Currently on step 3000\n",
            "Currently on step 4000\n",
            "epochs:  [0, 1000, 2000, 3000, 4000]\n",
            "accuracy:  [0.1015, 0.6056, 0.651, 0.676, 0.6722]\n"
          ],
          "name": "stdout"
        },
        {
          "output_type": "display_data",
          "data": {
            "image/png": "[encoded data removed]",
            "text/plain": [
              "<matplotlib.figure.Figure at 0x7f94803e8390>"
            ]
          },
          "metadata": {
            "tags": []
          }
        }
      ]
    },
    {
      "metadata": {
        "id": "8EnJw-oMKUG0",
        "colab_type": "text"
      },
      "cell_type": "markdown",
      "source": [
        "### Part B: Activation Functions\n",
        "- Creating a custom function similar to grid search to tune the model\n",
        "- Checked the accuracy of the model for Relu, Selu and Leaky Relu activation function\n",
        "- Number of Epochs is 4000"
      ]
    },
    {
      "metadata": {
        "id": "mrvEr38h9EBE",
        "colab_type": "code",
        "outputId": "f4411a95-2cbc-44c8-9598-3e13761fd847",
        "colab": {
          "base_uri": "https://localhost:8080/",
          "height": 1223
        }
      },
      "cell_type": "code",
      "source": [
        "activation_functions =['relu','selu','leaky relu']\n",
        "for act_f in activation_functions:\n",
        "  print('for activation funtion: ', act_f)\n",
        "  convo_1 = convolutional_layer(input_x = x,shape=[4,4,3,32],acti_func = act_f)\n",
        "  convo_1_pooling = max_pool_2by2(convo_1)\n",
        "  convo_2 = convolutional_layer(input_x = convo_1_pooling,shape=[4,4,32,64],acti_func = act_f)\n",
        "  convo_2_pooling = max_pool_2by2(convo_2)\n",
        "  convo_2_flat = tf.reshape(convo_2_pooling,[-1,8*8*64])\n",
        "  full_layer_one = tf.nn.relu(normal_full_layer(convo_2_flat,1024))\n",
        "  full_one_dropout = tf.nn.dropout(full_layer_one,keep_prob=hold_prob)\n",
        "  y_pred = normal_full_layer(full_one_dropout,10)\n",
        "  cross_entropy = tf.reduce_mean(tf.nn.softmax_cross_entropy_with_logits(labels=y_true,logits=y_pred))\n",
        "  optimizer = tf.train.AdamOptimizer(learning_rate=0.001)\n",
        "  train = optimizer.minimize(cross_entropy)\n",
        "  init = tf.global_variables_initializer()\n",
        "  with tf.Session() as sess:\n",
        "    sess.run(tf.global_variables_initializer())\n",
        "    epochs =[]\n",
        "    accuracy =[]\n",
        "    #for epochs in range(epochs)\n",
        "    for i in range(5000):\n",
        "        batch = ch.next_batch(100)\n",
        "        sess.run(train, feed_dict={x: batch[0], y_true: batch[1], hold_prob: 0.5})\n",
        "\n",
        "        # PRINT OUT A MESSAGE EVERY 100 STEPS\n",
        "        if i%1000 == 0:\n",
        "\n",
        "            print('Currently on step {}'.format(i))\n",
        "            #print('Accuracy is:')\n",
        "            # Test the Train Model\n",
        "            matches = tf.equal(tf.argmax(y_pred,1),tf.argmax(y_true,1))\n",
        "\n",
        "            acc = tf.reduce_mean(tf.cast(matches,tf.float32))\n",
        "            test_acc = sess.run(acc,feed_dict={x:ch.test_images,y_true:ch.test_labels,hold_prob:1.0})\n",
        "            epochs.append(i)\n",
        "            accuracy.append(test_acc)\n",
        "            #print(test_acc)\n",
        "\n",
        "            #print('\\n')\n",
        "    print(\"epochs: \",epochs)\n",
        "    print(\"accuracy: \",accuracy)\n",
        "    plt.plot(epochs,accuracy )\n",
        "    plt.xlabel(\"No. of epochs\")\n",
        "    plt.ylabel(\"Model accuracy\")\n",
        "    plt.show()"
      ],
      "execution_count": 0,
      "outputs": [
        {
          "output_type": "stream",
          "text": [
            "for activation funtion:  relu\n",
            "Currently on step 0\n",
            "Currently on step 1000\n",
            "Currently on step 2000\n",
            "Currently on step 3000\n",
            "Currently on step 4000\n",
            "epochs:  [0, 1000, 2000, 3000, 4000]\n",
            "accuracy:  [0.1, 0.5855, 0.6501, 0.6668, 0.6747]\n"
          ],
          "name": "stdout"
        },
        {
          "output_type": "display_data",
          "data": {
            "image/png": "[encoded data removed]",
            "text/plain": [
              "<matplotlib.figure.Figure at 0x7f94800ad518>"
            ]
          },
          "metadata": {
            "tags": []
          }
        },
        {
          "output_type": "stream",
          "text": [
            "for activation funtion:  selu\n",
            "Currently on step 0\n",
            "Currently on step 1000\n",
            "Currently on step 2000\n",
            "Currently on step 3000\n",
            "Currently on step 4000\n",
            "epochs:  [0, 1000, 2000, 3000, 4000]\n",
            "accuracy:  [0.0998, 0.5619, 0.6164, 0.6571, 0.666]\n"
          ],
          "name": "stdout"
        },
        {
          "output_type": "display_data",
          "data": {
            "image/png": "[encoded data removed]",
            "text/plain": [
              "<matplotlib.figure.Figure at 0x7f946a5a0588>"
            ]
          },
          "metadata": {
            "tags": []
          }
        },
        {
          "output_type": "stream",
          "text": [
            "for activation funtion:  leaky relu\n",
            "Currently on step 0\n",
            "Currently on step 1000\n",
            "Currently on step 2000\n",
            "Currently on step 3000\n",
            "Currently on step 4000\n",
            "epochs:  [0, 1000, 2000, 3000, 4000]\n",
            "accuracy:  [0.1001, 0.6421, 0.6913, 0.6936, 0.7004]\n"
          ],
          "name": "stdout"
        },
        {
          "output_type": "display_data",
          "data": {
            "image/png": "[encoded data removed]",
            "text/plain": [
              "<matplotlib.figure.Figure at 0x7f946a2a63c8>"
            ]
          },
          "metadata": {
            "tags": []
          }
        }
      ]
    },
    {
      "metadata": {
        "id": "kjW2vhr4MQtb",
        "colab_type": "text"
      },
      "cell_type": "markdown",
      "source": [
        "### Results:\n",
        "-----------------------------------------------------------------------------------------------------\n",
        "- After trying different activation function we can say that the **Leaky Relu**  activation function works best with Image Classification data\n",
        "-----------------------------------------------------------------------------------------------------\n",
        "| Activation Function        | Epoches           | Accuracy  |\n",
        "| ------------- |:-------------:| -----:|\n",
        "| Relu     | 4000 |67.47% |\n",
        "| Selu     | 4000      |   66.6% |\n",
        "| Leaky Relu | 4000    |    70.04% |\n",
        "\n",
        "**The accuracy for Relu and Leaky Relu activation function is not chaging much after 2000 Epochs which means that with these activation function the network plateaus after 2000 epochs**"
      ]
    },
    {
      "metadata": {
        "id": "6M0xuZvKLIJZ",
        "colab_type": "text"
      },
      "cell_type": "markdown",
      "source": [
        "### Part C: Cost Functions\n",
        "- Calculating the accuracy for different cost functions\n",
        "- We have used Softmax and Sigmoid activation function to test the accuracy\n",
        "- Softmax convert the output in terms of probabilties where as the sigmoid function converts the results into range (0,1)"
      ]
    },
    {
      "metadata": {
        "id": "onzE14V_9D8Q",
        "colab_type": "code",
        "outputId": "84f1525d-c1b6-46bf-f521-c1095f219146",
        "colab": {
          "base_uri": "https://localhost:8080/",
          "height": 822
        }
      },
      "cell_type": "code",
      "source": [
        "cost_functions =['softmax', 'sigmoid']\n",
        "for cost_f in cost_functions:\n",
        "  print('for cost funtion: ', cost_f)\n",
        "  convo_1 = convolutional_layer(input_x = x,shape=[4,4,3,32],acti_func = 'selu')\n",
        "  convo_1_pooling = max_pool_2by2(convo_1)\n",
        "  convo_2 = convolutional_layer(input_x = convo_1_pooling,shape=[4,4,32,64],acti_func = 'selu')\n",
        "  convo_2_pooling = max_pool_2by2(convo_2)\n",
        "  convo_2_flat = tf.reshape(convo_2_pooling,[-1,8*8*64])\n",
        "  full_layer_one = tf.nn.relu(normal_full_layer(convo_2_flat,1024))\n",
        "  full_one_dropout = tf.nn.dropout(full_layer_one,keep_prob=hold_prob)\n",
        "  y_pred = normal_full_layer(full_one_dropout,10)\n",
        "  if (cost_f == 'softmax'):\n",
        "    cost_function = tf.reduce_mean(tf.nn.softmax_cross_entropy_with_logits_v2(labels=y_true,logits=y_pred))\n",
        "  if (cost_f == 'sigmoid'):\n",
        "    cost_function = tf.reduce_mean(tf.nn.sigmoid_cross_entropy_with_logits(labels=y_true,logits=y_pred))\n",
        "  optimizer = tf.train.AdamOptimizer(learning_rate=0.001)\n",
        "  train = optimizer.minimize(cost_function)\n",
        "  init = tf.global_variables_initializer()\n",
        "  with tf.Session() as sess:\n",
        "    sess.run(tf.global_variables_initializer())\n",
        "    epochs =[]\n",
        "    accuracy =[]\n",
        "    #for epochs in range(epochs)\n",
        "    for i in range(5000):\n",
        "        batch = ch.next_batch(100)\n",
        "        sess.run(train, feed_dict={x: batch[0], y_true: batch[1], hold_prob: 0.5})\n",
        "\n",
        "        # PRINT OUT A MESSAGE EVERY 100 STEPS\n",
        "        if i%1000 == 0:\n",
        "\n",
        "            print('Currently on step {}'.format(i))\n",
        "            #print('Accuracy is:')\n",
        "            # Test the Train Model\n",
        "            matches = tf.equal(tf.argmax(y_pred,1),tf.argmax(y_true,1))\n",
        "\n",
        "            acc = tf.reduce_mean(tf.cast(matches,tf.float32))\n",
        "            test_acc = sess.run(acc,feed_dict={x:ch.test_images,y_true:ch.test_labels,hold_prob:1.0})\n",
        "            epochs.append(i)\n",
        "            accuracy.append(test_acc)\n",
        "            #print(test_acc)\n",
        "\n",
        "            #print('\\n')\n",
        "    print(\"epochs: \",epochs)\n",
        "    print(\"accuracy: \",accuracy)\n",
        "    plt.plot(epochs,accuracy )\n",
        "    plt.xlabel(\"No. of epochs\")\n",
        "    plt.ylabel(\"Model accuracy\")\n",
        "    plt.show()"
      ],
      "execution_count": 0,
      "outputs": [
        {
          "output_type": "stream",
          "text": [
            "for cost funtion:  softmax\n",
            "Currently on step 0\n",
            "Currently on step 1000\n",
            "Currently on step 2000\n",
            "Currently on step 3000\n",
            "Currently on step 4000\n",
            "epochs:  [0, 1000, 2000, 3000, 4000]\n",
            "accuracy:  [0.1074, 0.5295, 0.6235, 0.6559, 0.6659]\n"
          ],
          "name": "stdout"
        },
        {
          "output_type": "display_data",
          "data": {
            "image/png": "[encoded data removed]",
            "text/plain": [
              "<matplotlib.figure.Figure at 0x7f9483ff4898>"
            ]
          },
          "metadata": {
            "tags": []
          }
        },
        {
          "output_type": "stream",
          "text": [
            "for cost funtion:  sigmoid\n",
            "Currently on step 0\n",
            "Currently on step 1000\n",
            "Currently on step 2000\n",
            "Currently on step 3000\n",
            "Currently on step 4000\n",
            "epochs:  [0, 1000, 2000, 3000, 4000]\n",
            "accuracy:  [0.1396, 0.5705, 0.6415, 0.6592, 0.6756]\n"
          ],
          "name": "stdout"
        },
        {
          "output_type": "display_data",
          "data": {
            "image/png": "[encoded data removed]",
            "text/plain": [
              "<matplotlib.figure.Figure at 0x7f9469dd1390>"
            ]
          },
          "metadata": {
            "tags": []
          }
        }
      ]
    },
    {
      "metadata": {
        "id": "Tp24Xs3FPUXN",
        "colab_type": "text"
      },
      "cell_type": "markdown",
      "source": [
        "### Results:\n",
        "-----------------------------------------------------------------------------------------------------\n",
        "- After trying different cost function we can say that the **Sigmoid**  cost function works best withthis Image dataset\n",
        "-----------------------------------------------------------------------------------------------------\n",
        "| Cost Function        | Epoches           | Accuracy  |\n",
        "| ------------- |:-------------:| -----:|\n",
        "| Softmax     | 4000 |66.5% |\n",
        "| Sigmoid     | 4000      |   67.5% |\n",
        "\n"
      ]
    },
    {
      "metadata": {
        "id": "KXE2qb18nei3",
        "colab_type": "text"
      },
      "cell_type": "markdown",
      "source": [
        "### PART D: Epochs\n",
        "- we have tried 7000 epochs and printed the accuracy for every 1000 epochs"
      ]
    },
    {
      "metadata": {
        "id": "QdN0HolH93Yl",
        "colab_type": "code",
        "outputId": "a58462c7-bc61-45af-e42c-961a72b441c1",
        "colab": {
          "base_uri": "https://localhost:8080/",
          "height": 453
        }
      },
      "cell_type": "code",
      "source": [
        "convo_1 = convolutional_layer(input_x = x,shape=[4,4,3,32],acti_func = 'relu')\n",
        "convo_1_pooling = max_pool_2by2(convo_1)\n",
        "convo_2 = convolutional_layer(input_x = convo_1_pooling,shape=[4,4,32,64],acti_func = 'relu')\n",
        "convo_2_pooling = max_pool_2by2(convo_2)\n",
        "convo_2_flat = tf.reshape(convo_2_pooling,[-1,8*8*64])\n",
        "full_layer_one = tf.nn.relu(normal_full_layer(convo_2_flat,1024))\n",
        "full_one_dropout = tf.nn.dropout(full_layer_one,keep_prob=hold_prob)\n",
        "y_pred = normal_full_layer(full_one_dropout,10)\n",
        "cost_function = tf.reduce_mean(tf.nn.sigmoid_cross_entropy_with_logits(labels=y_true,logits=y_pred))\n",
        "optimizer = tf.train.AdamOptimizer(learning_rate=0.001)\n",
        "train = optimizer.minimize(cost_function) \n",
        "init = tf.global_variables_initializer()\n",
        "with tf.Session() as sess:\n",
        "  sess.run(tf.global_variables_initializer())\n",
        "  epochs =[]\n",
        "  accuracy =[]\n",
        "  #for epochs in range(epochs)\n",
        "  for i in range(8000):\n",
        "      batch = ch.next_batch(100)\n",
        "      sess.run(train, feed_dict={x: batch[0], y_true: batch[1], hold_prob: 0.5})\n",
        "\n",
        "      # PRINT OUT A MESSAGE EVERY 100 STEPS\n",
        "      if i%1000 == 0:\n",
        "\n",
        "          print('Currently on step {}'.format(i))\n",
        "          #print('Accuracy is:')\n",
        "          # Test the Train Model\n",
        "          matches = tf.equal(tf.argmax(y_pred,1),tf.argmax(y_true,1))\n",
        "\n",
        "          acc = tf.reduce_mean(tf.cast(matches,tf.float32))\n",
        "          test_acc = sess.run(acc,feed_dict={x:ch.test_images,y_true:ch.test_labels,hold_prob:1.0})\n",
        "          epochs.append(i)\n",
        "          accuracy.append(test_acc)\n",
        "          #print(test_acc)\n",
        "\n",
        "          #print('\\n')\n",
        "  print(\"epochs: \",epochs)\n",
        "  print(\"accuracy: \",accuracy)\n",
        "  plt.plot(epochs,accuracy )\n",
        "  plt.xlabel(\"No. of epochs\")\n",
        "  plt.ylabel(\"Model accuracy\")\n",
        "  plt.show()"
      ],
      "execution_count": 0,
      "outputs": [
        {
          "output_type": "stream",
          "text": [
            "Currently on step 0\n",
            "Currently on step 1000\n",
            "Currently on step 2000\n",
            "Currently on step 3000\n",
            "Currently on step 4000\n",
            "Currently on step 5000\n",
            "Currently on step 6000\n",
            "Currently on step 7000\n",
            "epochs:  [0, 1000, 2000, 3000, 4000, 5000, 6000, 7000]\n",
            "accuracy:  [0.1003, 0.616, 0.6654, 0.6923, 0.7016, 0.7041, 0.7147, 0.7099]\n"
          ],
          "name": "stdout"
        },
        {
          "output_type": "display_data",
          "data": {
            "image/png": "[encoded data removed]",
            "text/plain": [
              "<matplotlib.figure.Figure at 0x7f9469a4d4a8>"
            ]
          },
          "metadata": {
            "tags": []
          }
        }
      ]
    },
    {
      "metadata": {
        "id": "OV_G6u7GnSWj",
        "colab_type": "text"
      },
      "cell_type": "markdown",
      "source": [
        "### PART E: Gardient Estimation \n",
        "- Calculated the accuracy of the network for different values of Gradient Estimation\n",
        "- We have tried the model with Adam, Adagrad and Adadelta gradient estimation function\n",
        "- Number of Epochs are 5000"
      ]
    },
    {
      "metadata": {
        "id": "pzIOgQIc93fF",
        "colab_type": "code",
        "outputId": "3398c075-67a5-4717-dc9c-18a8a39ca900",
        "colab": {
          "base_uri": "https://localhost:8080/",
          "height": 1219
        }
      },
      "cell_type": "code",
      "source": [
        "optimizers =['adam', 'adagrad','adadelta']\n",
        "for opt in optimizers:\n",
        "  print('for optimizer: ', opt)\n",
        "  convo_1 = convolutional_layer(input_x = x,shape=[4,4,3,32],acti_func = 'leaky relu')\n",
        "  convo_1_pooling = max_pool_2by2(convo_1)\n",
        "  convo_2 = convolutional_layer(input_x = convo_1_pooling,shape=[4,4,32,64],acti_func = 'leaky relu')\n",
        "  convo_2_pooling = max_pool_2by2(convo_2)\n",
        "  convo_2_flat = tf.reshape(convo_2_pooling,[-1,8*8*64])\n",
        "  full_layer_one = tf.nn.relu(normal_full_layer(convo_2_flat,1024))\n",
        "  full_one_dropout = tf.nn.dropout(full_layer_one,keep_prob=hold_prob)\n",
        "  y_pred = normal_full_layer(full_one_dropout,10)\n",
        "  cost_function = tf.reduce_mean(tf.nn.sigmoid_cross_entropy_with_logits(labels=y_true,logits=y_pred))\n",
        "  if(opt == 'adam'):\n",
        "    optimizer = tf.train.AdamOptimizer(learning_rate=0.001)\n",
        "  if(opt == 'adagrad'):\n",
        "    optimizer = tf.train.AdagradOptimizer(learning_rate=0.001)\n",
        "  if(opt == 'adadelta'):\n",
        "    optimizer = tf.train.AdadeltaOptimizer(learning_rate=0.001)\n",
        "  train = optimizer.minimize(cost_function)\n",
        "  init = tf.global_variables_initializer()\n",
        "  with tf.Session() as sess:\n",
        "    sess.run(tf.global_variables_initializer())\n",
        "    epochs =[]\n",
        "    accuracy =[]\n",
        "    #for epochs in range(epochs)\n",
        "    for i in range(5000):\n",
        "        batch = ch.next_batch(100)\n",
        "        sess.run(train, feed_dict={x: batch[0], y_true: batch[1], hold_prob: 0.5})\n",
        "\n",
        "        # PRINT OUT A MESSAGE EVERY 100 STEPS\n",
        "        if i%1000 == 0:\n",
        "\n",
        "            print('Currently on step {}'.format(i))\n",
        "            #print('Accuracy is:')\n",
        "            # Test the Train Model\n",
        "            matches = tf.equal(tf.argmax(y_pred,1),tf.argmax(y_true,1))\n",
        "\n",
        "            acc = tf.reduce_mean(tf.cast(matches,tf.float32))\n",
        "            test_acc = sess.run(acc,feed_dict={x:ch.test_images,y_true:ch.test_labels,hold_prob:1.0})\n",
        "            epochs.append(i)\n",
        "            accuracy.append(test_acc)\n",
        "            #print(test_acc)\n",
        "\n",
        "            #print('\\n')\n",
        "    print(\"epochs: \",epochs)\n",
        "    print(\"accuracy: \",accuracy)\n",
        "    plt.plot(epochs,accuracy )\n",
        "    plt.xlabel(\"No. of epochs\")\n",
        "    plt.ylabel(\"Model accuracy\")\n",
        "    plt.show()"
      ],
      "execution_count": 0,
      "outputs": [
        {
          "output_type": "stream",
          "text": [
            "for optimizer:  adam\n",
            "Currently on step 0\n",
            "Currently on step 1000\n",
            "Currently on step 2000\n",
            "Currently on step 3000\n",
            "Currently on step 4000\n",
            "epochs:  [0, 1000, 2000, 3000, 4000]\n",
            "accuracy:  [0.0913, 0.5888, 0.6775, 0.703, 0.7137]\n"
          ],
          "name": "stdout"
        },
        {
          "output_type": "display_data",
          "data": {
            "image/png": "[encoded data removed]",
            "text/plain": [
              "<matplotlib.figure.Figure at 0x7f9469db2470>"
            ]
          },
          "metadata": {
            "tags": []
          }
        },
        {
          "output_type": "stream",
          "text": [
            "for optimizer:  adagrad\n",
            "Currently on step 0\n",
            "Currently on step 1000\n",
            "Currently on step 2000\n",
            "Currently on step 3000\n",
            "Currently on step 4000\n",
            "epochs:  [0, 1000, 2000, 3000, 4000]\n",
            "accuracy:  [0.1025, 0.2228, 0.2645, 0.2935, 0.3135]\n"
          ],
          "name": "stdout"
        },
        {
          "output_type": "display_data",
          "data": {
            "image/png": "[encoded data removed]",
            "text/plain": [
              "<matplotlib.figure.Figure at 0x7f9469512048>"
            ]
          },
          "metadata": {
            "tags": []
          }
        },
        {
          "output_type": "stream",
          "text": [
            "for optimizer:  adadelta\n",
            "Currently on step 0\n",
            "Currently on step 1000\n",
            "Currently on step 2000\n",
            "Currently on step 3000\n",
            "Currently on step 4000\n",
            "epochs:  [0, 1000, 2000, 3000, 4000]\n",
            "accuracy:  [0.0971, 0.0916, 0.1302, 0.1534, 0.1786]\n"
          ],
          "name": "stdout"
        },
        {
          "output_type": "display_data",
          "data": {
            "image/png": "[encoded data removed]",
            "text/plain": [
              "<matplotlib.figure.Figure at 0x7f94691ec860>"
            ]
          },
          "metadata": {
            "tags": []
          }
        }
      ]
    },
    {
      "metadata": {
        "id": "vFjIqPoVZ9r1",
        "colab_type": "text"
      },
      "cell_type": "markdown",
      "source": [
        "### Results:\n",
        "-----------------------------------------------------------------------------------------------------\n",
        "- After trying different Gradient estimation function we can say that the **Adam**  gradient estimation function works best with this Image dataset\n",
        "-----------------------------------------------------------------------------------------------------\n",
        "| Gradient Estimation        | Epochs           | Accuracy  |\n",
        "| ------------- |:-------------:| -----:|\n",
        "| Adam     | 7000 |71.37% |\n",
        "| Adagrad     | 7000      |   31.35% |\n",
        "| Adadelta     | 7000      |   17.86% |\n",
        "\n"
      ]
    },
    {
      "metadata": {
        "id": "e_O4YAV6bpZ8",
        "colab_type": "text"
      },
      "cell_type": "markdown",
      "source": [
        "### PART F: Network Architecture\n",
        "- Added additional filters and convolution layer to change the architecture of the Network.\n",
        "- Added a batch normalization layer to normalize the weights.\n",
        "- Added more fully connected layers to increase the network size and Number of neurons"
      ]
    },
    {
      "metadata": {
        "id": "WkAx_BPA93w4",
        "colab_type": "code",
        "outputId": "56fbfd3b-059c-4fd1-a72e-7cdf42b663cd",
        "colab": {
          "base_uri": "https://localhost:8080/",
          "height": 401
        }
      },
      "cell_type": "code",
      "source": [
        "#convolutional filters for different layers\n",
        "filter1 = tf.Variable(tf.truncated_normal(shape=[3, 3, 3, 64], mean=0, stddev=0.08))\n",
        "filter2 = tf.Variable(tf.truncated_normal(shape=[3, 3, 64, 128], mean=0, stddev=0.08))\n",
        "filter3 = tf.Variable(tf.truncated_normal(shape=[5, 5, 128, 256], mean=0, stddev=0.08))\n",
        "filter4 = tf.Variable(tf.truncated_normal(shape=[5, 5, 256, 512], mean=0, stddev=0.08))\n",
        "\n",
        "#convolutional layer 1\n",
        "conv_layer1 = tf.nn.conv2d(x, filter1, strides=[1,1,1,1], padding='SAME')\n",
        "conv_layer1 = tf.nn.relu(conv_layer1)\n",
        "layer1_pool = tf.nn.max_pool(conv_layer1, ksize=[1,2,2,1], strides=[1,2,2,1], padding='SAME')\n",
        "layer1_bn = tf.layers.batch_normalization(layer1_pool)\n",
        "\n",
        "#convolutional layer 2\n",
        "conv_layer2 = tf.nn.conv2d(layer1_bn, filter2, strides=[1,1,1,1], padding='SAME')\n",
        "conv_layer2 = tf.nn.relu(conv_layer2)\n",
        "layer2_pool = tf.nn.max_pool(conv_layer2, ksize=[1,2,2,1], strides=[1,2,2,1], padding='SAME')\n",
        "layer2_bn = tf.layers.batch_normalization(layer2_pool)\n",
        "\n",
        "#convolutional layer 3\n",
        "conv_layer3 = tf.nn.conv2d(layer2_bn, filter3, strides=[1,1,1,1], padding='SAME')\n",
        "conv_layer3 = tf.nn.relu(conv_layer3)\n",
        "layer3_pool = tf.nn.max_pool(conv_layer3, ksize=[1,2,2,1], strides=[1,2,2,1], padding='SAME')\n",
        "layer3_bn = tf.layers.batch_normalization(layer3_pool)\n",
        "\n",
        "#flatten\n",
        "flat_layer = tf.contrib.layers.flatten(layer3_bn)\n",
        "\n",
        "#fully connected layers\n",
        "#layer 1\n",
        "full_layer1 = tf.contrib.layers.fully_connected(inputs=flat_layer, num_outputs=128, activation_fn=tf.nn.relu)\n",
        "full_layer1 = tf.nn.dropout(full_layer1, keep_prob= hold_prob)\n",
        "full_layer1 = tf.layers.batch_normalization(full_layer1)\n",
        "\n",
        "#layer2\n",
        "full_layer2 = tf.contrib.layers.fully_connected(inputs=full_layer1, num_outputs=256, activation_fn=tf.nn.relu)\n",
        "full_layer2 = tf.nn.dropout(full_layer2, keep_prob= hold_prob)\n",
        "full_layer2 = tf.layers.batch_normalization(full_layer2)\n",
        "\n",
        "#layer3\n",
        "full_layer3 = tf.contrib.layers.fully_connected(inputs=full_layer2, num_outputs=512, activation_fn=tf.nn.relu)\n",
        "full_layer3 = tf.nn.dropout(full_layer3, keep_prob= hold_prob)\n",
        "full_layer3 = tf.layers.batch_normalization(full_layer3)\n",
        "\n",
        "#output layer\n",
        "y_pred = tf.contrib.layers.fully_connected(inputs=full_layer3, num_outputs=10, activation_fn=None)\n",
        "\n",
        "#cost function & optimizer\n",
        "cost_function = tf.reduce_mean(tf.nn.sigmoid_cross_entropy_with_logits(labels=y_true,logits=y_pred))\n",
        "optimizer = tf.train.AdamOptimizer(learning_rate=0.001)\n",
        "train = optimizer.minimize(cost_function)\n",
        "init = tf.global_variables_initializer()\n",
        "\n",
        "#train the model over batches\n",
        "with tf.Session() as sess:\n",
        "  sess.run(tf.global_variables_initializer())\n",
        "  epochs =[]\n",
        "  accuracy =[]\n",
        "  #for epochs in range(epochs)\n",
        "  for i in range(5000):\n",
        "      batch = ch.next_batch(100)\n",
        "      sess.run(train, feed_dict={x: batch[0], y_true: batch[1], hold_prob: 0.5})\n",
        "\n",
        "      # PRINT OUT A MESSAGE EVERY 100 STEPS\n",
        "      if i%1000 == 0:\n",
        "\n",
        "          print('Currently on step {}'.format(i))\n",
        "          #print('Accuracy is:')\n",
        "          # Test the Train Model\n",
        "          matches = tf.equal(tf.argmax(y_pred,1),tf.argmax(y_true,1))\n",
        "\n",
        "          acc = tf.reduce_mean(tf.cast(matches,tf.float32))\n",
        "          test_acc = sess.run(acc,feed_dict={x:ch.test_images,y_true:ch.test_labels,hold_prob:1.0})\n",
        "          epochs.append(i)\n",
        "          accuracy.append(test_acc)\n",
        "          #print(test_acc)\n",
        "\n",
        "          #print('\\n')\n",
        "  print(\"epochs: \",epochs)\n",
        "  print(\"accuracy: \",accuracy)\n",
        "  plt.plot(epochs,accuracy )\n",
        "  plt.xlabel(\"No. of epochs\")\n",
        "  plt.ylabel(\"Model accuracy\")\n",
        "  plt.show()"
      ],
      "execution_count": 0,
      "outputs": [
        {
          "output_type": "stream",
          "text": [
            "Currently on step 0\n",
            "Currently on step 1000\n",
            "Currently on step 2000\n",
            "Currently on step 3000\n",
            "Currently on step 4000\n",
            "epochs:  [0, 1000, 2000, 3000, 4000]\n",
            "accuracy:  [0.1, 0.6381, 0.7025, 0.7383, 0.7388]\n"
          ],
          "name": "stdout"
        },
        {
          "output_type": "display_data",
          "data": {
            "image/png": "[encoded data removed]",
            "text/plain": [
              "<matplotlib.figure.Figure at 0x7f7e9074cf60>"
            ]
          },
          "metadata": {
            "tags": []
          }
        }
      ]
    },
    {
      "metadata": {
        "id": "4Uz_z4D5ppHi",
        "colab_type": "text"
      },
      "cell_type": "markdown",
      "source": [
        "#### Result:\n",
        "-----------------------------------------------------------------------------------------------------\n",
        "** Accuracy has improved significantly from 67.22% to 73.88% after  tuning the network architecture**\n"
      ]
    },
    {
      "metadata": {
        "id": "wpB9dCkK2y3W",
        "colab_type": "text"
      },
      "cell_type": "markdown",
      "source": [
        "### PART G: Network Initialization"
      ]
    },
    {
      "metadata": {
        "id": "3lIueRdvPY8R",
        "colab_type": "text"
      },
      "cell_type": "markdown",
      "source": [
        "#### A: xavier_initializer()"
      ]
    },
    {
      "metadata": {
        "id": "X9TfbsqG8nde",
        "colab_type": "code",
        "colab": {}
      },
      "cell_type": "code",
      "source": [
        "def init_weights(shape, name):\n",
        "    init_random_dist = tf.get_variable(name, shape=shape,initializer=tf.contrib.layers.xavier_initializer())\n",
        "    return tf.Variable(init_random_dist)\n",
        "  \n",
        "def convolutional_layer(input_x, shape, acti_func, name):\n",
        "    W = init_weights(shape, name)\n",
        "    b = init_bias([shape[3]])\n",
        "    if acti_func == 'relu':\n",
        "      return tf.nn.relu(conv2d(input_x, W) + b)\n",
        "    if acti_func == 'selu':\n",
        "      return tf.nn.selu(conv2d(input_x, W) + b)\n",
        "    if acti_func == 'leaky relu':\n",
        "      return tf.nn.leaky_relu((conv2d(input_x, W) + b),alpha=0.2)\n",
        "\n",
        "def normal_full_layer(input_layer, size, name):\n",
        "    input_size = int(input_layer.get_shape()[1])\n",
        "    W = init_weights([input_size, size], name)\n",
        "    b = init_bias([size])\n",
        "    return tf.matmul(input_layer, W) + b"
      ],
      "execution_count": 0,
      "outputs": []
    },
    {
      "metadata": {
        "id": "x7oYYzZZ931h",
        "colab_type": "code",
        "outputId": "9ff375b3-353c-42b2-fb91-09dd6aac5fcb",
        "colab": {
          "base_uri": "https://localhost:8080/",
          "height": 401
        }
      },
      "cell_type": "code",
      "source": [
        "convo_1 = convolutional_layer(input_x = x,shape=[4,4,3,32],acti_func = 'relu', name = \"XYZ\")\n",
        "convo_1_pooling = max_pool_2by2(convo_1)\n",
        "convo_2 = convolutional_layer(input_x = convo_1_pooling,shape=[4,4,32,64],acti_func = 'relu', name=\"XYZ1\")\n",
        "convo_2_pooling = max_pool_2by2(convo_2)\n",
        "convo_2_flat = tf.reshape(convo_2_pooling,[-1,8*8*64])\n",
        "full_layer_one = tf.nn.relu(normal_full_layer(convo_2_flat,1024, name=\"XYZ2\"))\n",
        "full_one_dropout = tf.nn.dropout(full_layer_one,keep_prob=hold_prob)\n",
        "y_pred = normal_full_layer(full_one_dropout,10,name = \"XYZ3\")\n",
        "cross_entropy = tf.reduce_mean(tf.nn.softmax_cross_entropy_with_logits_v2(labels=y_true,logits=y_pred))\n",
        "optimizer = tf.train.AdamOptimizer(learning_rate=0.001)\n",
        "train = optimizer.minimize(cross_entropy)\n",
        "init = tf.global_variables_initializer()\n",
        "with tf.Session() as sess:\n",
        "  sess.run(tf.global_variables_initializer())\n",
        "  epochs =[]\n",
        "  accuracy =[]\n",
        "  #for epochs in range(epochs)\n",
        "  for i in range(5000):\n",
        "      batch = ch.next_batch(100)\n",
        "      sess.run(train, feed_dict={x: batch[0], y_true: batch[1], hold_prob: 0.5})\n",
        "\n",
        "      # PRINT OUT A MESSAGE EVERY 100 STEPS\n",
        "      if i%1000 == 0:\n",
        "\n",
        "          print('Currently on step {}'.format(i))\n",
        "          #print('Accuracy is:')\n",
        "          # Test the Train Model\n",
        "          matches = tf.equal(tf.argmax(y_pred,1),tf.argmax(y_true,1))\n",
        "\n",
        "          acc = tf.reduce_mean(tf.cast(matches,tf.float32))\n",
        "          test_acc = sess.run(acc,feed_dict={x:ch.test_images,y_true:ch.test_labels,hold_prob:1.0})\n",
        "          epochs.append(i)\n",
        "          accuracy.append(test_acc)\n",
        "          #print(test_acc)\n",
        "\n",
        "          #print('\\n')\n",
        "  print(\"epochs: \",epochs)\n",
        "  print(\"accuracy: \",accuracy)\n",
        "  plt.plot(epochs,accuracy )\n",
        "  plt.xlabel(\"No. of epochs\")\n",
        "  plt.ylabel(\"Model accuracy\")\n",
        "  plt.show()"
      ],
      "execution_count": 0,
      "outputs": [
        {
          "output_type": "stream",
          "text": [
            "Currently on step 0\n",
            "Currently on step 1000\n",
            "Currently on step 2000\n",
            "Currently on step 3000\n",
            "Currently on step 4000\n",
            "epochs:  [0, 1000, 2000, 3000, 4000]\n",
            "accuracy:  [0.1, 0.5707, 0.6407, 0.6678, 0.6925]\n"
          ],
          "name": "stdout"
        },
        {
          "output_type": "display_data",
          "data": {
            "image/png": "[encoded data removed]",
            "text/plain": [
              "<matplotlib.figure.Figure at 0x7f7e90360828>"
            ]
          },
          "metadata": {
            "tags": []
          }
        }
      ]
    },
    {
      "metadata": {
        "id": "TpTGnsbOPgEG",
        "colab_type": "text"
      },
      "cell_type": "markdown",
      "source": [
        "**B: variance_scaling_initializer**"
      ]
    },
    {
      "metadata": {
        "id": "fINL89FF935a",
        "colab_type": "code",
        "colab": {}
      },
      "cell_type": "code",
      "source": [
        "def init_weights(shape, name):\n",
        "    init_random_dist = tf.get_variable(name, shape=shape,initializer=tf.contrib.layers.variance_scaling_initializer(\n",
        "    factor=2.0,\n",
        "    mode='FAN_IN',\n",
        "    uniform=False,\n",
        "    seed=None,\n",
        "    dtype=tf.float32\n",
        "))\n",
        "    return tf.Variable(init_random_dist)"
      ],
      "execution_count": 0,
      "outputs": []
    },
    {
      "metadata": {
        "id": "HqLebsRoDKLW",
        "colab_type": "code",
        "outputId": "278e2fba-bd18-447e-c9cd-1f9ef2bd2e37",
        "colab": {
          "base_uri": "https://localhost:8080/",
          "height": 401
        }
      },
      "cell_type": "code",
      "source": [
        "convo_1 = convolutional_layer(input_x = x,shape=[4,4,3,32],acti_func = 'relu', name = \"Z\")\n",
        "convo_1_pooling = max_pool_2by2(convo_1)\n",
        "convo_2 = convolutional_layer(input_x = convo_1_pooling,shape=[4,4,32,64],acti_func = 'relu', name=\"Z1\")\n",
        "convo_2_pooling = max_pool_2by2(convo_2)\n",
        "convo_2_flat = tf.reshape(convo_2_pooling,[-1,8*8*64])\n",
        "full_layer_one = tf.nn.relu(normal_full_layer(convo_2_flat,1024, name=\"Z2\"))\n",
        "full_one_dropout = tf.nn.dropout(full_layer_one,keep_prob=hold_prob)\n",
        "y_pred = normal_full_layer(full_one_dropout,10,name = \"Z3\")\n",
        "cross_entropy = tf.reduce_mean(tf.nn.softmax_cross_entropy_with_logits_v2(labels=y_true,logits=y_pred))\n",
        "optimizer = tf.train.AdamOptimizer(learning_rate=0.001)\n",
        "train = optimizer.minimize(cross_entropy)\n",
        "init = tf.global_variables_initializer()\n",
        "with tf.Session() as sess:\n",
        "  sess.run(tf.global_variables_initializer())\n",
        "  epochs =[]\n",
        "  accuracy =[]\n",
        "  #for epochs in range(epochs)\n",
        "  for i in range(5000):\n",
        "      batch = ch.next_batch(100)\n",
        "      sess.run(train, feed_dict={x: batch[0], y_true: batch[1], hold_prob: 0.5})\n",
        "\n",
        "      # PRINT OUT A MESSAGE EVERY 100 STEPS\n",
        "      if i%1000 == 0:\n",
        "\n",
        "          print('Currently on step {}'.format(i))\n",
        "          #print('Accuracy is:')\n",
        "          # Test the Train Model\n",
        "          matches = tf.equal(tf.argmax(y_pred,1),tf.argmax(y_true,1))\n",
        "\n",
        "          acc = tf.reduce_mean(tf.cast(matches,tf.float32))\n",
        "          test_acc = sess.run(acc,feed_dict={x:ch.test_images,y_true:ch.test_labels,hold_prob:1.0})\n",
        "          epochs.append(i)\n",
        "          accuracy.append(test_acc)\n",
        "          #print(test_acc)\n",
        "\n",
        "          #print('\\n')\n",
        "  print(\"epochs: \",epochs)\n",
        "  print(\"accuracy: \",accuracy)\n",
        "  plt.plot(epochs,accuracy )\n",
        "  plt.xlabel(\"No. of epochs\")\n",
        "  plt.ylabel(\"Model accuracy\")\n",
        "  plt.show()"
      ],
      "execution_count": 0,
      "outputs": [
        {
          "output_type": "stream",
          "text": [
            "Currently on step 0\n",
            "Currently on step 1000\n",
            "Currently on step 2000\n",
            "Currently on step 3000\n",
            "Currently on step 4000\n",
            "epochs:  [0, 1000, 2000, 3000, 4000]\n",
            "accuracy:  [0.1005, 0.6124, 0.664, 0.678, 0.6951]\n"
          ],
          "name": "stdout"
        },
        {
          "output_type": "display_data",
          "data": {
            "image/png": "[encoded data removed]",
            "text/plain": [
              "<matplotlib.figure.Figure at 0x7f7e7bf5c4a8>"
            ]
          },
          "metadata": {
            "tags": []
          }
        }
      ]
    },
    {
      "metadata": {
        "id": "vWx9GG5CldZX",
        "colab_type": "text"
      },
      "cell_type": "markdown",
      "source": [
        "### Conclusion:\n",
        "\n",
        "#### Initial Model Accuracy - **67.22**\n",
        "\n",
        "**Best Parameters for Image Classification Datasets are:**\n",
        "- Activation Function - **Leaky Relu**\n",
        "- Cost Fucntion - **Sigmoid**\n",
        "- Gradient Estimation - **Adam**\n",
        "- Network Initialization - **truncated_normal** to initialize the weights\n",
        "\n",
        "#### Model Accuracy after network tuning - 73.88%\n"
      ]
    },
    {
      "metadata": {
        "id": "FoiyiISsstr6",
        "colab_type": "text"
      },
      "cell_type": "markdown",
      "source": [
        "References :\n",
        "1) https://stackoverflow.com/questions/48376580/google-colab-how-to-read-data-from-my-google-drive  \n",
        "2)https://towardsdatascience.com/cifar-10-image-classification-in-tensorflow-5b501f7dc77c  \n",
        "3) https://github.com/nicoprocessor/deepTF-tutorial/tree/55977a5e30371409f88724c604acb31a781be79c  \n",
        "4)https://www.tensorflow.org/api_docs/python/tf  \n",
        "\n"
      ]
    }
  ]
}