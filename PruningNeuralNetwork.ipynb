{
 "cells": [
  {
   "cell_type": "markdown",
   "metadata": {
    "colab_type": "text",
    "id": "HmSfGyve-8rt"
   },
   "source": [
    "# Pruning Convolutional Neural Networks"
   ]
  },
  {
   "cell_type": "markdown",
   "metadata": {
    "colab_type": "text",
    "id": "Fuwnp1hFlAAK"
   },
   "source": [
    "### Introduction  \n",
    "In deep learning, a convolutional neural network is a class of deep neural networks, most\n",
    "commonly applied to analyzing visual imagery. Usually when we build a Convolution Neural\n",
    "Network with large number of neurons it can achieve the state-of-the-art performance for\n",
    "variety of computer vision tasks, but how large or deep a neural network can be, that is still a\n",
    "question. In this notebook we are trying to find the optimum number of neurons in a network so\n",
    "that it can retain its accuracy even when we reduce the network size. There are various pruning\n",
    "techniques to reduce the network architecture, we will try to remove the neurons with small\n",
    "weights and low variances. When we prune a neural network, there is a trade-off between\n",
    "accuracy and network size. Generally larger the network size better the performance but it also\n",
    "requires more computational power and cost. We are trying to reduce the computational\n",
    "power and cost by reducing the size of the network so that it can run on CPU’s and mobile\n",
    "devices.  \n",
    "\n",
    "We are trying to reduce the network architecture and parameters of a CNN model that has\n",
    "been created by us and it is trained on CIFAR-10 dataset. For this project we are pruning only\n",
    "the last layer i.e. the dense layer which has large number of neurons and try to maintain the\n",
    "accuracy that the original model has achieved.\n",
    "Our focus will be to study the behavior of each neuron once it is trained, we will try to find the\n",
    "neurons that are inactive or not participating in image classification and remove them from the\n",
    "network. Since, we are creating a CNN model with 2 convolution layers and 3 fully connected\n",
    "layers, the network size is around 5MB which is already small, can we make it smaller without\n",
    "making it worse that is the biggest question?  \n",
    "\n",
    "The success of this research will be measured by comparing the Initial Accuracy vs Accuracy\n",
    "after the pruning and Initial Network Size vs Network Size after pruning. It is still an open\n",
    "question in machine learning to find the optimum number of neurons that is required to train\n",
    "any model for image classification.  \n"
   ]
  },
  {
   "cell_type": "markdown",
   "metadata": {
    "colab_type": "text",
    "id": "pmPO5-ytmfsE"
   },
   "source": [
    "### Dataset"
   ]
  },
  {
   "cell_type": "markdown",
   "metadata": {
    "colab_type": "text",
    "id": "vZArfiX3mk4b"
   },
   "source": [
    "We have used CIFAR-10 dataset for training and validating the accuracy for CNN model. The\n",
    "dataset can be downloaded from the below link  \n",
    "CIFAR-10: https://www.cs.toronto.edu/~kriz/cifar.html\n"
   ]
  },
  {
   "cell_type": "markdown",
   "metadata": {
    "colab_type": "text",
    "id": "SisogLyy_pjr"
   },
   "source": [
    "#### Importing libraries and dataset"
   ]
  },
  {
   "cell_type": "markdown",
   "metadata": {
    "colab_type": "text",
    "id": "h2n2xGGHDB1p"
   },
   "source": [
    "The following libraries are required to run the below code"
   ]
  },
  {
   "cell_type": "code",
   "execution_count": 0,
   "metadata": {
    "colab": {
     "base_uri": "https://localhost:8080/",
     "height": 35
    },
    "colab_type": "code",
    "collapsed": false,
    "id": "Knv7XuJdLrYE",
    "outputId": "e28964ec-6d67-45b5-a006-f29ab3b27fa5"
   },
   "outputs": [
    {
     "name": "stderr",
     "output_type": "stream",
     "text": [
      "Using TensorFlow backend.\n"
     ]
    }
   ],
   "source": [
    "from __future__ import print_function\n",
    "import keras\n",
    "from keras.datasets import cifar10\n",
    "from tensorflow.contrib.keras import layers\n",
    "from keras.preprocessing.image import ImageDataGenerator\n",
    "from keras.models import Sequential\n",
    "from keras.layers import Dense, Dropout, Activation, Flatten\n",
    "from keras.layers import Conv2D, MaxPooling2D\n",
    "from keras.callbacks import ModelCheckpoint\n",
    "import os\n",
    "import matplotlib.pyplot as plt\n",
    "%matplotlib inline\n",
    "import numpy as np\n",
    "!pip install -U -q keras_sequential_ascii\n",
    "from keras_sequential_ascii import sequential_model_to_ascii_printout\n",
    "import glob\n",
    "import math"
   ]
  },
  {
   "cell_type": "markdown",
   "metadata": {
    "colab_type": "text",
    "id": "jHzI1NOA_y0e"
   },
   "source": [
    "#### Setting up inital variables"
   ]
  },
  {
   "cell_type": "markdown",
   "metadata": {
    "colab_type": "text",
    "id": "lx_b56LFDHb5"
   },
   "source": [
    "Setting the initial variables and creating the training and testing sample of the dataset "
   ]
  },
  {
   "cell_type": "code",
   "execution_count": 0,
   "metadata": {
    "colab": {
     "base_uri": "https://localhost:8080/",
     "height": 70
    },
    "colab_type": "code",
    "collapsed": false,
    "id": "nD_cqWM1_2YE",
    "outputId": "c1fbb089-8059-4c91-ac8a-fffae7aab7b2"
   },
   "outputs": [
    {
     "name": "stdout",
     "output_type": "stream",
     "text": [
      "x_train shape: (50000, 32, 32, 3)\n",
      "50000 train samples\n",
      "10000 test samples\n"
     ]
    }
   ],
   "source": [
    "batch_size = 100\n",
    "num_classes = 10\n",
    "epochs = 30\n",
    "data_augmentation = False\n",
    "num_predictions = 20\n",
    "include_zeros = False\n",
    "\n",
    "# The data, split between train and test sets:\n",
    "(x_train, y_train), (x_test, y_test) = cifar10.load_data()\n",
    "print('x_train shape:', x_train.shape)\n",
    "print(x_train.shape[0], 'train samples')\n",
    "print(x_test.shape[0], 'test samples')\n",
    "\n",
    "# Convert class vectors to binary class matrices.\n",
    "y_train = keras.utils.to_categorical(y_train, num_classes)\n",
    "y_test = keras.utils.to_categorical(y_test, num_classes)"
   ]
  },
  {
   "cell_type": "markdown",
   "metadata": {
    "colab_type": "text",
    "id": "wQNLStZNoJh6"
   },
   "source": [
    "### Helper Functions"
   ]
  },
  {
   "cell_type": "code",
   "execution_count": 0,
   "metadata": {
    "colab": {},
    "colab_type": "code",
    "collapsed": true,
    "id": "tZH8-Mfb-qJW"
   },
   "outputs": [],
   "source": [
    "def create_model(x_train,y_train,x_test, y_test): \n",
    "  \"\"\"\n",
    "  input: train and test data\n",
    "  output: model, the hidden layers, the fully connected layers\n",
    "  \n",
    "  The function takes the data as input and creates a CNN model with \n",
    "  2 convolutional layers and 3 dense layers of different shapes\n",
    "  \n",
    "  It also saves the weights of the model after each epoch.\n",
    "  \"\"\"\n",
    "  model = Sequential()\n",
    "  conv_1 = Conv2D(32, (3, 3), activation='relu', padding='same',\n",
    "                   input_shape=x_train.shape[1:])\n",
    "  model.add(conv_1)\n",
    "  # conv_2 = Conv2D(32, (3, 3), activation='relu')\n",
    "  # model.add(conv_2)\n",
    "  model.add(MaxPooling2D(pool_size=(2, 2)))\n",
    "  model.add(Dropout(0.25))\n",
    "\n",
    "  conv_2 = Conv2D(64, (3, 3), activation='relu', padding='same')\n",
    "  model.add(conv_2)\n",
    "  # conv_4 = Conv2D(64, (3, 3), activation='relu')\n",
    "  # model.add(conv_4)\n",
    "  model.add(MaxPooling2D(pool_size=(2, 2)))\n",
    "  model.add(Dropout(0.25))\n",
    "\n",
    "  model.add(Flatten())\n",
    "  dense1 = Dense(128, activation='relu')\n",
    "  model.add(dense1)\n",
    "  dense2 = Dense(256, activation='relu')\n",
    "  model.add(dense2)\n",
    "  dense3 = Dense(512, activation='relu')\n",
    "  model.add(dense3)\n",
    "  model.add(Dropout(0.5))\n",
    "  model.add(Dense(num_classes))\n",
    "  model.add(Activation('softmax'))\n",
    "\n",
    "  # initiate RMSprop optimizer\n",
    "  opt = keras.optimizers.rmsprop(lr=0.0001, decay=1e-6)\n",
    "\n",
    "  # Let's train the model using RMSprop\n",
    "  model.compile(loss='categorical_crossentropy',\n",
    "                optimizer=opt,\n",
    "                metrics=['accuracy'])\n",
    "\n",
    "  x_train = x_train.astype('float32')\n",
    "  x_test = x_test.astype('float32')\n",
    "  x_train /= 255\n",
    "  x_test /= 255\n",
    "\n",
    "  filepath=\"weights-{epoch:02d}.hdf5\"\n",
    "  checkpoint = ModelCheckpoint(filepath, monitor='val_acc', verbose=1, save_best_only=False,save_weights_only=True ,mode='max')\n",
    "  callbacks_list = [checkpoint]\n",
    "\n",
    "  if not data_augmentation:\n",
    "      print('Not using data augmentation.')\n",
    "      model.fit(x_train, y_train,\n",
    "                batch_size=batch_size,\n",
    "                epochs=epochs,\n",
    "                validation_data=(x_test, y_test),\n",
    "                callbacks=callbacks_list,\n",
    "                shuffle=True)\n",
    "  else:\n",
    "      print('Using real-time data augmentation.')\n",
    "      # This will do preprocessing and realtime data augmentation:\n",
    "      datagen = ImageDataGenerator(\n",
    "          featurewise_center=False,  # set input mean to 0 over the dataset\n",
    "          samplewise_center=False,  # set each sample mean to 0\n",
    "          featurewise_std_normalization=False,  # divide inputs by std of the dataset\n",
    "          samplewise_std_normalization=False,  # divide each input by its std\n",
    "          zca_whitening=False,  # apply ZCA whitening\n",
    "          zca_epsilon=1e-06,  # epsilon for ZCA whitening\n",
    "          rotation_range=0,  # randomly rotate images in the range (degrees, 0 to 180)\n",
    "          # randomly shift images horizontally (fraction of total width)\n",
    "          width_shift_range=0.1,\n",
    "          # randomly shift images vertically (fraction of total height)\n",
    "          height_shift_range=0.1,\n",
    "          shear_range=0.,  # set range for random shear\n",
    "          zoom_range=0.,  # set range for random zoom\n",
    "          channel_shift_range=0.,  # set range for random channel shifts\n",
    "          # set mode for filling points outside the input boundaries\n",
    "          fill_mode='nearest',\n",
    "          cval=0.,  # value used for fill_mode = \"constant\"\n",
    "          horizontal_flip=True,  # randomly flip images\n",
    "          vertical_flip=False,  # randomly flip images\n",
    "          # set rescaling factor (applied before any other transformation)\n",
    "          rescale=None,\n",
    "          # set function that will be applied on each input\n",
    "          preprocessing_function=None,\n",
    "          # image data format, either \"channels_first\" or \"channels_last\"\n",
    "          data_format=None,\n",
    "          # fraction of images reserved for validation (strictly between 0 and 1)\n",
    "          validation_split=0.0)\n",
    "\n",
    "      # Compute quantities required for feature-wise normalization\n",
    "      # (std, mean, and principal components if ZCA whitening is applied).\n",
    "      datagen.fit(x_train)\n",
    "\n",
    "      # Fit the model on the batches generated by datagen.flow().\n",
    "      model.fit_generator(datagen.flow(x_train, y_train,\n",
    "                                       batch_size=batch_size),\n",
    "                          epochs=epochs,\n",
    "                          validation_data=(x_test, y_test),\n",
    "                          workers=4)\n",
    "\n",
    "  # Save initial model\n",
    "  model.save('./init_model.h5')\n",
    "\n",
    "\n",
    "  # Score trained model.\n",
    "  scores = model.evaluate(x_test, y_test, verbose=1)\n",
    "  print('Test loss:', scores[0])\n",
    "  print('Test accuracy:', scores[1])\n",
    "  return model, conv_1,conv_2,dense1,dense2,dense3\n",
    "\n",
    "\n",
    " \n",
    "def create_new_model(new_outShape, x_train, y_train,x_test,y_test,conv1_w, conv2_w, dense1_w, dense2_w, dense3_w_new):\n",
    "  \"\"\"\n",
    "  input: train and test data, new shape of last dense layer, weights from pre trained model\n",
    "  output: model\n",
    "  \n",
    "  The function takes the data and weihgts from pretrained model as input and \n",
    "  creates a new CNN model similar to the pretrained model with only difference in the \n",
    "  shape and the weights of the last dense layer\n",
    "  \"\"\"\n",
    "  new_model = Sequential()\n",
    "  conv_1 = Conv2D(32, (3, 3), activation='relu', padding='same',\n",
    "                   input_shape=x_train.shape[1:])\n",
    "  new_model.add(conv_1)\n",
    "  new_model.add(MaxPooling2D(pool_size=(2, 2)))\n",
    "  new_model.add(Dropout(0.25))\n",
    "\n",
    "  conv_2 = Conv2D(64, (3, 3), activation='relu', padding='same')\n",
    "  new_model.add(conv_2)\n",
    "  new_model.add(MaxPooling2D(pool_size=(2, 2)))\n",
    "  new_model.add(Dropout(0.25))\n",
    "\n",
    "  new_model.add(Flatten())\n",
    "  dense1 = Dense(128, activation='relu')\n",
    "  new_model.add(dense1)\n",
    "  dense2 = Dense(256, activation='relu')\n",
    "  new_model.add(dense2)\n",
    "  dense3 = Dense(new_outShape, activation='relu')\n",
    "  new_model.add(dense3)\n",
    "  new_model.add(Dropout(0.5))\n",
    "  new_model.add(Dense(num_classes))\n",
    "  new_model.add(Activation('softmax'))\n",
    "\n",
    "  # initiate RMSprop optimizer\n",
    "  opt = keras.optimizers.rmsprop(lr=0.0001, decay=1e-6)\n",
    "\n",
    "  # Let's train the model using RMSprop\n",
    "  new_model.compile(loss='categorical_crossentropy',\n",
    "                optimizer=opt,\n",
    "                metrics=['accuracy'])\n",
    "\n",
    "  #setting weights of layers obtained from previuosly trained model\n",
    "  conv_1.set_weights(conv1_w)\n",
    "  conv_2.set_weights(conv2_w)\n",
    "  dense1.set_weights(dense1_w)\n",
    "  dense2.set_weights(dense2_w)\n",
    "  #setting weights of last dense layer with new weights obtained after removing low variance neurons \n",
    "  dense3.set_weights(dense3_w_new)\n",
    "  new_model.save('./pruned_model.h5')\n",
    "\n",
    "\n",
    "  # Score trained model.\n",
    "  scores = new_model.evaluate(x_test, y_test, verbose=1)\n",
    "  print('Test loss:', scores[0])\n",
    "  print('Test accuracy:', scores[1])\n",
    "  \n",
    "  return new_model\n",
    "\n",
    "\n",
    "#distribution plot\n",
    "def dist_plot(x, plt_range):\n",
    "  \"\"\"\n",
    "  function to plot distribution of variances and weights of neurons\n",
    "  \"\"\"\n",
    "  fig = plt.figure(figsize=(10, 7))\n",
    "  ax = fig.add_subplot(111)\n",
    "\n",
    "  ax.hist(x,\n",
    "          bins=100,\n",
    "          facecolor='red',\n",
    "          edgecolor='black',\n",
    "          alpha=0.7,\n",
    "          range=plt_range)\n",
    "  return ax\n",
    "\n",
    " \n",
    "def retrain_new_model(new_model):\n",
    "  \"\"\"\n",
    "  input: model\n",
    "  \n",
    "  This function retrains the model for less number of epochs \n",
    "  and prints the test accuracy and test loss of the model \n",
    "  \"\"\"\n",
    "  #tuning the pruned model for less epochs\n",
    "  new_model.fit(x_train, y_train,\n",
    "                batch_size=batch_size,\n",
    "                epochs=10,\n",
    "                validation_data=(x_test, y_test),\n",
    "                shuffle=True)\n",
    "\n",
    "  new_model.save('./tuned_model.h5')\n",
    "  #print('Saved trained model at %s ' % model_path)\n",
    "\n",
    "  # Score trained model.\n",
    "  scores = new_model.evaluate(x_test, y_test, verbose=1)\n",
    "  print('Test loss:', scores[0])\n",
    "  print('Test accuracy:', scores[1])"
   ]
  },
  {
   "cell_type": "markdown",
   "metadata": {
    "colab_type": "text",
    "id": "KsrQLiWyDQ13"
   },
   "source": [
    "### Pruning the network by removing low variance neurons  "
   ]
  },
  {
   "cell_type": "markdown",
   "metadata": {
    "colab_type": "text",
    "id": "gX3y4sNTr1kv"
   },
   "source": [
    "We will be calculating the variance of each neuron weights after every epoch and will remove\n",
    "the neuron that has low variance. The Idea behind this approach is to check whether the weight\n",
    "of a neuron is changing over time or not, if the weight is not changing after several epochs that\n",
    "implies that the neuron is not getting trained and it will not have any impact in classifying the\n",
    "images.  \n",
    "\n",
    "**Extracting Variance**: Initially we start with training the CNN model on CIFAR-10 dataset and\n",
    "check the accuracy of the model, by this time all the weights and bias values are adjusted to\n",
    "minimize the error. We have extracted the weights in a separate file by keeping the\n",
    "ModelCheckPoint’s save_weights_only function as true. Once the weights are saved for all\n",
    "epochs we iterate through the files to extract the weights and using these values we are\n",
    "calculating the variance.  \n",
    "\n",
    "**Threshold**: Defining a threshold and removing all the weights which are below the threshold.\n",
    "**Threshold = (minimum Variance + Maximum Variance) / 2  **\n",
    "\n",
    "**Indexing of Neurons**: Removing neurons directly from the network would not solve our\n",
    "problem, we need to remove the specific neurons with the zero variance and for that we have\n",
    "extracted the index of each neurons of the dense3 layer and using the index values we have\n",
    "removed the neurons from the network.\n"
   ]
  },
  {
   "cell_type": "markdown",
   "metadata": {
    "colab_type": "text",
    "id": "BcpKa78ICOEy"
   },
   "source": [
    "Creating the CNN model with 2 convolutional layers and 3 dense layers "
   ]
  },
  {
   "cell_type": "code",
   "execution_count": 0,
   "metadata": {
    "colab": {
     "base_uri": "https://localhost:8080/",
     "height": 2259
    },
    "colab_type": "code",
    "collapsed": false,
    "id": "Sm8HrongoY8X",
    "outputId": "94a9d28f-4a97-4e6c-a1be-97dc4308f0fe",
    "scrolled": true
   },
   "outputs": [
    {
     "name": "stdout",
     "output_type": "stream",
     "text": [
      "Not using data augmentation.\n",
      "Train on 50000 samples, validate on 10000 samples\n",
      "Epoch 1/30\n",
      "50000/50000 [==============================] - 11s 211us/step - loss: 1.9978 - acc: 0.2523 - val_loss: 1.7602 - val_acc: 0.3740\n",
      "\n",
      "Epoch 00001: saving model to weights-01.hdf5\n",
      "Epoch 2/30\n",
      "50000/50000 [==============================] - 8s 165us/step - loss: 1.6840 - acc: 0.3814 - val_loss: 1.5545 - val_acc: 0.4410\n",
      "\n",
      "Epoch 00002: saving model to weights-02.hdf5\n",
      "Epoch 3/30\n",
      "50000/50000 [==============================] - 8s 166us/step - loss: 1.5400 - acc: 0.4351 - val_loss: 1.4279 - val_acc: 0.4887\n",
      "\n",
      "Epoch 00003: saving model to weights-03.hdf5\n",
      "Epoch 4/30\n",
      "50000/50000 [==============================] - 8s 164us/step - loss: 1.4471 - acc: 0.4727 - val_loss: 1.3605 - val_acc: 0.5124\n",
      "\n",
      "Epoch 00004: saving model to weights-04.hdf5\n",
      "Epoch 5/30\n",
      "50000/50000 [==============================] - 8s 164us/step - loss: 1.3708 - acc: 0.5031 - val_loss: 1.3103 - val_acc: 0.5303\n",
      "\n",
      "Epoch 00005: saving model to weights-05.hdf5\n",
      "Epoch 6/30\n",
      "50000/50000 [==============================] - 8s 166us/step - loss: 1.3062 - acc: 0.5280 - val_loss: 1.2450 - val_acc: 0.5659\n",
      "\n",
      "Epoch 00006: saving model to weights-06.hdf5\n",
      "Epoch 7/30\n",
      "50000/50000 [==============================] - 8s 164us/step - loss: 1.2594 - acc: 0.5447 - val_loss: 1.1833 - val_acc: 0.5866\n",
      "\n",
      "Epoch 00007: saving model to weights-07.hdf5\n",
      "Epoch 8/30\n",
      "50000/50000 [==============================] - 8s 165us/step - loss: 1.2128 - acc: 0.5652 - val_loss: 1.1394 - val_acc: 0.6037\n",
      "\n",
      "Epoch 00008: saving model to weights-08.hdf5\n",
      "Epoch 9/30\n",
      "50000/50000 [==============================] - 8s 164us/step - loss: 1.1678 - acc: 0.5822 - val_loss: 1.1189 - val_acc: 0.6105\n",
      "\n",
      "Epoch 00009: saving model to weights-09.hdf5\n",
      "Epoch 10/30\n",
      "50000/50000 [==============================] - 8s 167us/step - loss: 1.1275 - acc: 0.5969 - val_loss: 1.0721 - val_acc: 0.6301\n",
      "\n",
      "Epoch 00010: saving model to weights-10.hdf5\n",
      "Epoch 11/30\n",
      "50000/50000 [==============================] - 8s 163us/step - loss: 1.1004 - acc: 0.6104 - val_loss: 1.0387 - val_acc: 0.6346\n",
      "\n",
      "Epoch 00011: saving model to weights-11.hdf5\n",
      "Epoch 12/30\n",
      "50000/50000 [==============================] - 8s 162us/step - loss: 1.0639 - acc: 0.6211 - val_loss: 1.0194 - val_acc: 0.6472\n",
      "\n",
      "Epoch 00012: saving model to weights-12.hdf5\n",
      "Epoch 13/30\n",
      "50000/50000 [==============================] - 8s 164us/step - loss: 1.0348 - acc: 0.6316 - val_loss: 0.9835 - val_acc: 0.6619\n",
      "\n",
      "Epoch 00013: saving model to weights-13.hdf5\n",
      "Epoch 14/30\n",
      "50000/50000 [==============================] - 8s 164us/step - loss: 1.0086 - acc: 0.6430 - val_loss: 0.9619 - val_acc: 0.6646\n",
      "\n",
      "Epoch 00014: saving model to weights-14.hdf5\n",
      "Epoch 15/30\n",
      "50000/50000 [==============================] - 8s 167us/step - loss: 0.9839 - acc: 0.6513 - val_loss: 0.9430 - val_acc: 0.6748\n",
      "\n",
      "Epoch 00015: saving model to weights-15.hdf5\n",
      "Epoch 16/30\n",
      "50000/50000 [==============================] - 8s 168us/step - loss: 0.9610 - acc: 0.6618 - val_loss: 0.9262 - val_acc: 0.6773\n",
      "\n",
      "Epoch 00016: saving model to weights-16.hdf5\n",
      "Epoch 17/30\n",
      "50000/50000 [==============================] - 8s 168us/step - loss: 0.9426 - acc: 0.6668 - val_loss: 0.9245 - val_acc: 0.6783\n",
      "\n",
      "Epoch 00017: saving model to weights-17.hdf5\n",
      "Epoch 18/30\n",
      "50000/50000 [==============================] - 8s 169us/step - loss: 0.9169 - acc: 0.6778 - val_loss: 0.9016 - val_acc: 0.6846\n",
      "\n",
      "Epoch 00018: saving model to weights-18.hdf5\n",
      "Epoch 19/30\n",
      "50000/50000 [==============================] - 8s 169us/step - loss: 0.9005 - acc: 0.6830 - val_loss: 0.8943 - val_acc: 0.6880\n",
      "\n",
      "Epoch 00019: saving model to weights-19.hdf5\n",
      "Epoch 20/30\n",
      "50000/50000 [==============================] - 8s 167us/step - loss: 0.8833 - acc: 0.6888 - val_loss: 0.9122 - val_acc: 0.6808\n",
      "\n",
      "Epoch 00020: saving model to weights-20.hdf5\n",
      "Epoch 21/30\n",
      "50000/50000 [==============================] - 8s 167us/step - loss: 0.8648 - acc: 0.6964 - val_loss: 0.8892 - val_acc: 0.6864\n",
      "\n",
      "Epoch 00021: saving model to weights-21.hdf5\n",
      "Epoch 22/30\n",
      "50000/50000 [==============================] - 8s 166us/step - loss: 0.8478 - acc: 0.7013 - val_loss: 0.8561 - val_acc: 0.6999\n",
      "\n",
      "Epoch 00022: saving model to weights-22.hdf5\n",
      "Epoch 23/30\n",
      "50000/50000 [==============================] - 8s 164us/step - loss: 0.8264 - acc: 0.7109 - val_loss: 0.8440 - val_acc: 0.7031\n",
      "\n",
      "Epoch 00023: saving model to weights-23.hdf5\n",
      "Epoch 24/30\n",
      "50000/50000 [==============================] - 8s 167us/step - loss: 0.8100 - acc: 0.7155 - val_loss: 0.8555 - val_acc: 0.6998\n",
      "\n",
      "Epoch 00024: saving model to weights-24.hdf5\n",
      "Epoch 25/30\n",
      "50000/50000 [==============================] - 8s 167us/step - loss: 0.8002 - acc: 0.7211 - val_loss: 0.8452 - val_acc: 0.7040\n",
      "\n",
      "Epoch 00025: saving model to weights-25.hdf5\n",
      "Epoch 26/30\n",
      "50000/50000 [==============================] - 8s 167us/step - loss: 0.7837 - acc: 0.7237 - val_loss: 0.8270 - val_acc: 0.7113\n",
      "\n",
      "Epoch 00026: saving model to weights-26.hdf5\n",
      "Epoch 27/30\n",
      "50000/50000 [==============================] - 8s 166us/step - loss: 0.7700 - acc: 0.7298 - val_loss: 0.8102 - val_acc: 0.7126\n",
      "\n",
      "Epoch 00027: saving model to weights-27.hdf5\n",
      "Epoch 28/30\n",
      "50000/50000 [==============================] - 8s 168us/step - loss: 0.7573 - acc: 0.7349 - val_loss: 0.8310 - val_acc: 0.7069\n",
      "\n",
      "Epoch 00028: saving model to weights-28.hdf5\n",
      "Epoch 29/30\n",
      "50000/50000 [==============================] - 8s 167us/step - loss: 0.7380 - acc: 0.7421 - val_loss: 0.7973 - val_acc: 0.7242\n",
      "\n",
      "Epoch 00029: saving model to weights-29.hdf5\n",
      "Epoch 30/30\n",
      "50000/50000 [==============================] - 8s 167us/step - loss: 0.7256 - acc: 0.7459 - val_loss: 0.8055 - val_acc: 0.7208\n",
      "\n",
      "Epoch 00030: saving model to weights-30.hdf5\n",
      "10000/10000 [==============================] - 1s 113us/step\n",
      "Test loss: 0.8055329123497009\n",
      "Test accuracy: 0.7208\n"
     ]
    }
   ],
   "source": [
    "model , conv_1, conv_2, dense1, dense2, dense3 = create_model(x_train,y_train,x_test,y_test)"
   ]
  },
  {
   "cell_type": "markdown",
   "metadata": {
    "colab_type": "text",
    "id": "IU3R7LTMBjhz"
   },
   "source": [
    "Once the model is created and trained for 30 epochs, the shape of the last dense layer and inital weights of each layer is stored\n"
   ]
  },
  {
   "cell_type": "code",
   "execution_count": 0,
   "metadata": {
    "colab": {},
    "colab_type": "code",
    "collapsed": true,
    "id": "_mdbgq7IHyJu"
   },
   "outputs": [],
   "source": [
    "#storing initial weights for each layer\n",
    "conv1_w = conv_1.get_weights()\n",
    "conv2_w = conv_2.get_weights()\n",
    "dense1_w = dense1.get_weights()\n",
    "dense2_w = dense2.get_weights()\n",
    "dense3_w = dense3.get_weights()\n",
    "\n",
    "#getting shape of last dense layer\n",
    "input_shape = dense3.input_shape[1]\n",
    "output_shape = dense3.output_shape[1]"
   ]
  },
  {
   "cell_type": "markdown",
   "metadata": {
    "colab_type": "text",
    "id": "j0jUiT44Cbcv"
   },
   "source": [
    "The mean variance of each neuron is calculated using the weights stored after each epoch."
   ]
  },
  {
   "cell_type": "code",
   "execution_count": 0,
   "metadata": {
    "colab": {},
    "colab_type": "code",
    "collapsed": true,
    "id": "WLyDx273shyU"
   },
   "outputs": [],
   "source": [
    "#importing the weights file stored for each epoch \n",
    "files = glob.glob('*.hdf5')\n",
    "\n",
    "#calculating variance of each neuron for each epoch\n",
    "epoch_variance = []\n",
    "for file in files:\n",
    "  model.load_weights(file)\n",
    "  W = dense3.get_weights()[0]\n",
    "  l1 = np.var((W), axis=(0))\n",
    "  epoch_variance.append(l1)\n",
    "\n",
    "  \n",
    "#calculating mean variance for each neuron \n",
    "variances = []\n",
    "for i in range(len(epoch_variance[0])):\n",
    "  neuron_variance = []\n",
    "  for j in range(len(epoch_variance)):\n",
    "    neuron_variance.append(epoch_variance[j][i])\n",
    "  mean_var = np.mean(neuron_variance)\n",
    "  variances.append(mean_var)"
   ]
  },
  {
   "cell_type": "code",
   "execution_count": 0,
   "metadata": {
    "colab": {
     "base_uri": "https://localhost:8080/",
     "height": 475
    },
    "colab_type": "code",
    "collapsed": false,
    "id": "NV7VlFWeK0Xg",
    "outputId": "6d0ae69d-fc34-4f6e-9357-547bb2117b24"
   },
   "outputs": [
    {
     "data": {
      "text/plain": [
       "Text(0,0.5,'Number of Neurons')"
      ]
     },
     "execution_count": 9,
     "metadata": {
      "tags": []
     },
     "output_type": "execute_result"
    },
    {
     "data": {
      "image/png": "[encoded data removed]",
      "text/plain": [
       "<matplotlib.figure.Figure at 0x7f30d6132be0>"
      ]
     },
     "metadata": {
      "tags": []
     },
     "output_type": "display_data"
    }
   ],
   "source": [
    "#plot initial variance distribution\n",
    "ax = dist_plot(variances,plt_range= (0, 0.005))\n",
    "ax.set_title('Variance distribution')\n",
    "ax.set_xlabel('Variance values')\n",
    "ax.set_ylabel('Number of Neurons')"
   ]
  },
  {
   "cell_type": "markdown",
   "metadata": {
    "colab_type": "text",
    "id": "w63NYkTdDYyY"
   },
   "source": [
    "The above plot shows the distribution of variance for the last layer neurons"
   ]
  },
  {
   "cell_type": "markdown",
   "metadata": {
    "colab_type": "text",
    "id": "4EywBs9KDhyB"
   },
   "source": [
    "The threshold is decided as mean of the minimum and maximum value of the variance. Based on that threshold , the low variance are masked to zero and the weights corresponding to those low variances are removed from the original weight matrix"
   ]
  },
  {
   "cell_type": "code",
   "execution_count": 0,
   "metadata": {
    "colab": {},
    "colab_type": "code",
    "collapsed": true,
    "id": "ef6LnSj4PKm9"
   },
   "outputs": [],
   "source": [
    "#masking the neurons with low variance , setting threshold as mean of min and max variance\n",
    "min_var = min(variances)\n",
    "max_var = max(variances)\n",
    "pruning_threshold = (min_var + max_var )/2\n",
    "variances = np.asarray(variances)\n",
    "small_variance = (variances < pruning_threshold)\n",
    "small_variance = np.logical_not(small_variance)\n",
    "new_variances = variances * small_variance"
   ]
  },
  {
   "cell_type": "code",
   "execution_count": 0,
   "metadata": {
    "colab": {
     "base_uri": "https://localhost:8080/",
     "height": 475
    },
    "colab_type": "code",
    "collapsed": false,
    "id": "izCoBgP_Ijbu",
    "outputId": "2bc7a329-6774-4b5c-e2bc-7973be3ce646"
   },
   "outputs": [
    {
     "data": {
      "text/plain": [
       "Text(0,0.5,'Number of Neurons')"
      ]
     },
     "execution_count": 11,
     "metadata": {
      "tags": []
     },
     "output_type": "execute_result"
    },
    {
     "data": {
      "image/png": "[encoded data removed]",
      "text/plain": [
       "<matplotlib.figure.Figure at 0x7f30d60a5860>"
      ]
     },
     "metadata": {
      "tags": []
     },
     "output_type": "display_data"
    }
   ],
   "source": [
    "#plot new variance distribution\n",
    "new_var = []\n",
    "for v in new_variances:\n",
    "    new_var.extend(list(v.ravel()))\n",
    "if not include_zeros:\n",
    "   new_var = [w for w in new_var if w != 0]\n",
    "    \n",
    "ax = dist_plot(new_var, plt_range= (0, 0.005))\n",
    "ax.set_title('Variance distribution')\n",
    "ax.set_xlabel('Variance values')\n",
    "ax.set_ylabel('Number of Neurons')"
   ]
  },
  {
   "cell_type": "markdown",
   "metadata": {
    "colab_type": "text",
    "id": "5O6e11b1EZLU"
   },
   "source": [
    "The above plot shows the new distribution of variances"
   ]
  },
  {
   "cell_type": "code",
   "execution_count": 0,
   "metadata": {
    "colab": {},
    "colab_type": "code",
    "collapsed": true,
    "id": "hfHAlihSQMnn"
   },
   "outputs": [],
   "source": [
    "# getting index of neurons with zero variance\n",
    "get_indexes = lambda x, xs: [i for (y, i) in zip(xs, range(len(xs))) if x == y]\n",
    "zero_index_var = (get_indexes(0,new_variances))\n",
    "\n",
    "num_zeroVarNeurons = len(zero_index_var)\n",
    "new_outShape = output_shape - num_zeroVarNeurons\n",
    "#removing neurons with zero variance from original matrix \n",
    "get_rem = lambda x,y:[z for(z,i) in zip(x, range(len(x))) if i not in y]\n",
    "dense_w_new = np.empty((input_shape,new_outShape))\n",
    "for x,i in zip(dense3_w[0], range(len(dense3_w[0]))):\n",
    "  red_weights = (get_rem(x,zero_index_var))\n",
    "  #print(len(red_weights))\n",
    "  dense_w_new[i] =  red_weights\n",
    "\n",
    "#removing bias for neurons with zero variance\n",
    "new_bias = np.empty((new_outShape,))\n",
    "x = dense3_w[1]\n",
    "new_bias = (get_rem(x,zero_index_var))\n",
    "new_bias = np.asarray(new_bias)"
   ]
  },
  {
   "cell_type": "code",
   "execution_count": 0,
   "metadata": {
    "colab": {
     "base_uri": "https://localhost:8080/",
     "height": 475
    },
    "colab_type": "code",
    "collapsed": false,
    "id": "RjCMqrn5EPoe",
    "outputId": "e34558e2-2997-446c-9fa6-1a5f0a783324"
   },
   "outputs": [
    {
     "data": {
      "text/plain": [
       "Text(0,0.5,'Number of Weights')"
      ]
     },
     "execution_count": 13,
     "metadata": {
      "tags": []
     },
     "output_type": "execute_result"
    },
    {
     "data": {
      "image/png": "[encoded data removed]",
      "text/plain": [
       "<matplotlib.figure.Figure at 0x7f30d3e52dd8>"
      ]
     },
     "metadata": {
      "tags": []
     },
     "output_type": "display_data"
    }
   ],
   "source": [
    "#plot initial weight distribution\n",
    "ax = dist_plot(dense3_w, plt_range= (-0.2, 0.2))\n",
    "ax.set_title('Weights distribution')\n",
    "ax.set_xlabel('Weights values')\n",
    "ax.set_ylabel('Number of Weights')"
   ]
  },
  {
   "cell_type": "markdown",
   "metadata": {
    "colab_type": "text",
    "id": "UyAZsNLtEohZ"
   },
   "source": [
    "The above plot shows the initial distribution of weights and the number of neurons"
   ]
  },
  {
   "cell_type": "code",
   "execution_count": 0,
   "metadata": {
    "colab": {},
    "colab_type": "code",
    "collapsed": true,
    "id": "UXC6pFW3HneM"
   },
   "outputs": [],
   "source": [
    "#new weights for the last dense layer \n",
    "dense3_w_new = dense3_w\n",
    "dense3_w_new[0] = dense_w_new\n",
    "dense3_w_new[1] = new_bias"
   ]
  },
  {
   "cell_type": "code",
   "execution_count": 0,
   "metadata": {
    "colab": {
     "base_uri": "https://localhost:8080/",
     "height": 475
    },
    "colab_type": "code",
    "collapsed": false,
    "id": "vX4gKs3eH-qG",
    "outputId": "c90f55b3-209e-4402-8f55-ae2cc3619818"
   },
   "outputs": [
    {
     "data": {
      "text/plain": [
       "Text(0,0.5,'Number of Weights')"
      ]
     },
     "execution_count": 17,
     "metadata": {
      "tags": []
     },
     "output_type": "execute_result"
    },
    {
     "data": {
      "image/png": "[encoded data removed]",
      "text/plain": [
       "<matplotlib.figure.Figure at 0x7f30d69a8a90>"
      ]
     },
     "metadata": {
      "tags": []
     },
     "output_type": "display_data"
    }
   ],
   "source": [
    "#plot new weight distribution\n",
    "ax = dist_plot(dense3_w_new,plt_range= (-0.2, 0.2))\n",
    "ax.set_title('Weights distribution')\n",
    "ax.set_xlabel('Weights values')\n",
    "ax.set_ylabel('Number of Weights')"
   ]
  },
  {
   "cell_type": "markdown",
   "metadata": {
    "colab_type": "text",
    "id": "bFWWrCeEEyCQ"
   },
   "source": [
    "The number of weights have reduced after removing the low variance neurons is evident from the above plot "
   ]
  },
  {
   "cell_type": "code",
   "execution_count": 0,
   "metadata": {
    "colab": {
     "base_uri": "https://localhost:8080/",
     "height": 604
    },
    "colab_type": "code",
    "collapsed": false,
    "id": "aipYN2bba8Ig",
    "outputId": "1b5d87f9-5e43-4abc-82ec-7f2feb0e3848"
   },
   "outputs": [
    {
     "name": "stdout",
     "output_type": "stream",
     "text": [
      "_________________________________________________________________\n",
      "Layer (type)                 Output Shape              Param #   \n",
      "=================================================================\n",
      "conv2d_1 (Conv2D)            (None, 32, 32, 32)        896       \n",
      "_________________________________________________________________\n",
      "max_pooling2d_1 (MaxPooling2 (None, 16, 16, 32)        0         \n",
      "_________________________________________________________________\n",
      "dropout_1 (Dropout)          (None, 16, 16, 32)        0         \n",
      "_________________________________________________________________\n",
      "conv2d_2 (Conv2D)            (None, 16, 16, 64)        18496     \n",
      "_________________________________________________________________\n",
      "max_pooling2d_2 (MaxPooling2 (None, 8, 8, 64)          0         \n",
      "_________________________________________________________________\n",
      "dropout_2 (Dropout)          (None, 8, 8, 64)          0         \n",
      "_________________________________________________________________\n",
      "flatten_1 (Flatten)          (None, 4096)              0         \n",
      "_________________________________________________________________\n",
      "dense_1 (Dense)              (None, 128)               524416    \n",
      "_________________________________________________________________\n",
      "dense_2 (Dense)              (None, 256)               33024     \n",
      "_________________________________________________________________\n",
      "dense_3 (Dense)              (None, 512)               131584    \n",
      "_________________________________________________________________\n",
      "dropout_3 (Dropout)          (None, 512)               0         \n",
      "_________________________________________________________________\n",
      "dense_4 (Dense)              (None, 10)                5130      \n",
      "_________________________________________________________________\n",
      "activation_1 (Activation)    (None, 10)                0         \n",
      "=================================================================\n",
      "Total params: 713,546\n",
      "Trainable params: 713,546\n",
      "Non-trainable params: 0\n",
      "_________________________________________________________________\n"
     ]
    }
   ],
   "source": [
    "model.summary()"
   ]
  },
  {
   "cell_type": "markdown",
   "metadata": {
    "colab_type": "text",
    "id": "CcyaU3ZCE-Tu"
   },
   "source": [
    "The new model is created with different shape of last dense layers which is determined by the number of neurons removed for low variance. "
   ]
  },
  {
   "cell_type": "code",
   "execution_count": 0,
   "metadata": {
    "colab": {
     "base_uri": "https://localhost:8080/",
     "height": 70
    },
    "colab_type": "code",
    "collapsed": false,
    "id": "Ab4kZXWRJTAn",
    "outputId": "9d69be1d-0191-4654-ee6a-9230689d6e95"
   },
   "outputs": [
    {
     "name": "stdout",
     "output_type": "stream",
     "text": [
      "10000/10000 [==============================] - 1s 146us/step\n",
      "Test loss: 13.358279342651366\n",
      "Test accuracy: 0.1189\n"
     ]
    }
   ],
   "source": [
    "#Creating new CNN model by changing the shape of last dense layer\n",
    "new_model = create_new_model(new_outShape, x_train, y_train, x_test, y_test,conv1_w, conv2_w, dense1_w, dense2_w, dense3_w_new)"
   ]
  },
  {
   "cell_type": "markdown",
   "metadata": {
    "colab_type": "text",
    "id": "4RgYtzedpDT7"
   },
   "source": [
    "#### Retraining the model   \n",
    "Removing the neurons makes the accuracy of the network worse as we are throwing away what the network has learnt , even if it did not have much importance. In order to compensate for this , we need to retrain the model. \n",
    "\n",
    "Retraining is done by model.fit(). Here we retrain for less number of epochs and lower learning rate as the model is already trained,we only want to make small changes to tweak the results."
   ]
  },
  {
   "cell_type": "code",
   "execution_count": 0,
   "metadata": {
    "colab": {
     "base_uri": "https://localhost:8080/",
     "height": 464
    },
    "colab_type": "code",
    "collapsed": false,
    "id": "0uvgXcjtJ_wX",
    "outputId": "ecf97f2e-0202-42fc-99bf-82dc4f80dc5e"
   },
   "outputs": [
    {
     "name": "stdout",
     "output_type": "stream",
     "text": [
      "Train on 50000 samples, validate on 10000 samples\n",
      "Epoch 1/10\n",
      "50000/50000 [==============================] - 12s 239us/step - loss: 8.7760 - acc: 0.4144 - val_loss: 6.0423 - val_acc: 0.5861\n",
      "Epoch 2/10\n",
      "50000/50000 [==============================] - 11s 221us/step - loss: 5.9630 - acc: 0.5702 - val_loss: 4.1554 - val_acc: 0.6062\n",
      "Epoch 3/10\n",
      "50000/50000 [==============================] - 11s 229us/step - loss: 2.2114 - acc: 0.5357 - val_loss: 1.1736 - val_acc: 0.6263\n",
      "Epoch 4/10\n",
      "50000/50000 [==============================] - 12s 231us/step - loss: 1.1866 - acc: 0.6160 - val_loss: 1.0286 - val_acc: 0.6710\n",
      "Epoch 5/10\n",
      "50000/50000 [==============================] - 12s 239us/step - loss: 1.0713 - acc: 0.6519 - val_loss: 1.0111 - val_acc: 0.6734\n",
      "Epoch 6/10\n",
      "50000/50000 [==============================] - 11s 220us/step - loss: 1.0070 - acc: 0.6724 - val_loss: 0.9916 - val_acc: 0.6892\n",
      "Epoch 7/10\n",
      "50000/50000 [==============================] - 11s 218us/step - loss: 0.9562 - acc: 0.6861 - val_loss: 0.9464 - val_acc: 0.7010\n",
      "Epoch 8/10\n",
      "50000/50000 [==============================] - 11s 218us/step - loss: 0.9244 - acc: 0.6955 - val_loss: 0.9621 - val_acc: 0.6986\n",
      "Epoch 9/10\n",
      "50000/50000 [==============================] - 11s 219us/step - loss: 0.8937 - acc: 0.7066 - val_loss: 0.9196 - val_acc: 0.7072\n",
      "Epoch 10/10\n",
      "50000/50000 [==============================] - 11s 220us/step - loss: 0.8824 - acc: 0.7085 - val_loss: 0.9240 - val_acc: 0.7064\n",
      "10000/10000 [==============================] - 1s 117us/step\n",
      "Test loss: 0.9240129651069641\n",
      "Test accuracy: 0.7064\n"
     ]
    }
   ],
   "source": [
    "#retrain new model\n",
    "retrain_new_model(new_model)"
   ]
  },
  {
   "cell_type": "code",
   "execution_count": 0,
   "metadata": {
    "colab": {
     "base_uri": "https://localhost:8080/",
     "height": 604
    },
    "colab_type": "code",
    "collapsed": false,
    "id": "-SsoK5kMFNjq",
    "outputId": "2e03b0d7-3487-46d0-ef2d-a0759f2ece4b"
   },
   "outputs": [
    {
     "name": "stdout",
     "output_type": "stream",
     "text": [
      "_________________________________________________________________\n",
      "Layer (type)                 Output Shape              Param #   \n",
      "=================================================================\n",
      "conv2d_3 (Conv2D)            (None, 32, 32, 32)        896       \n",
      "_________________________________________________________________\n",
      "max_pooling2d_3 (MaxPooling2 (None, 16, 16, 32)        0         \n",
      "_________________________________________________________________\n",
      "dropout_4 (Dropout)          (None, 16, 16, 32)        0         \n",
      "_________________________________________________________________\n",
      "conv2d_4 (Conv2D)            (None, 16, 16, 64)        18496     \n",
      "_________________________________________________________________\n",
      "max_pooling2d_4 (MaxPooling2 (None, 8, 8, 64)          0         \n",
      "_________________________________________________________________\n",
      "dropout_5 (Dropout)          (None, 8, 8, 64)          0         \n",
      "_________________________________________________________________\n",
      "flatten_2 (Flatten)          (None, 4096)              0         \n",
      "_________________________________________________________________\n",
      "dense_5 (Dense)              (None, 128)               524416    \n",
      "_________________________________________________________________\n",
      "dense_6 (Dense)              (None, 256)               33024     \n",
      "_________________________________________________________________\n",
      "dense_7 (Dense)              (None, 362)               93034     \n",
      "_________________________________________________________________\n",
      "dropout_6 (Dropout)          (None, 362)               0         \n",
      "_________________________________________________________________\n",
      "dense_8 (Dense)              (None, 10)                3630      \n",
      "_________________________________________________________________\n",
      "activation_2 (Activation)    (None, 10)                0         \n",
      "=================================================================\n",
      "Total params: 673,496\n",
      "Trainable params: 673,496\n",
      "Non-trainable params: 0\n",
      "_________________________________________________________________\n"
     ]
    }
   ],
   "source": [
    "new_model.summary()"
   ]
  },
  {
   "cell_type": "markdown",
   "metadata": {
    "colab_type": "text",
    "id": "98-HZNLmnMca"
   },
   "source": [
    "### Results\n",
    "-----------------------------------------------------------------------------------------------------\n",
    "|        | Inital Model          | Pruned Model  |\n",
    "| ------------- |:-------------:| -----:|\n",
    "| Network Size| 5616Kb |5061Kb |\n",
    "| Number of Parametrs     | 713,546    |  636,116|\n",
    "| Accuracy | 71.87%    |    69.01% |"
   ]
  },
  {
   "cell_type": "markdown",
   "metadata": {
    "colab_type": "text",
    "id": "G-ULfaA2ovza"
   },
   "source": [
    "**Summary**   \n",
    "Network size is reduced by **600kb**  \n",
    "Accuracy reduced by **2.5%**  \n",
    "New model has** 80k less parameters**"
   ]
  },
  {
   "cell_type": "markdown",
   "metadata": {
    "colab_type": "text",
    "id": "Igmn6poxN52A"
   },
   "source": [
    "### Pruning the network by removing low weight neurons\n"
   ]
  },
  {
   "cell_type": "markdown",
   "metadata": {
    "colab_type": "text",
    "id": "cnDuxPgqrueE"
   },
   "source": [
    "In CNN model the weights and biases are adjusted to minimize the loss through\n",
    "backpropagation, Once the network is fully trained all the important neurons which are\n",
    "contributing to make a decision are assigned with the highest weights and the neurons which\n",
    "are associated with 0 weights or relatively less weights are considered to be inactive. In order\n",
    "to reduce the size of the network we tried to remove the neurons associated with near zero\n",
    "weights. To achieve this, we have sorted the neurons of the last dense layer according to their\n",
    "absolute value and then we have removed around 20% of the neurons which has near zero\n",
    "weights."
   ]
  },
  {
   "cell_type": "markdown",
   "metadata": {
    "colab_type": "text",
    "id": "aPTgNlbSsYFT"
   },
   "source": [
    "Once the neurons are removed from the network it means that the new model has that many\n",
    "less neurons to train, that improves the training time and it uses less computational power to\n",
    "run the deep neural network."
   ]
  },
  {
   "cell_type": "markdown",
   "metadata": {
    "colab_type": "text",
    "id": "LmM2fpqSsgG2"
   },
   "source": [
    "Low weights do not means removing the negative values because, in neural network training\n",
    "negative weights are equally important as the positive weights. We have taken the absolute\n",
    "value of the weights and then removed the 20% of neurons from the network. By doing this we\n",
    "are removing around 30,000 parameters from the neural network which makes the network\n",
    "lighter. This process can be repeated multiple times and this method can also be applied to\n",
    "other layers of neural network. The scope of this research is limited to pruning of only the last\n",
    "dense layer of the neural network."
   ]
  },
  {
   "cell_type": "markdown",
   "metadata": {
    "colab_type": "text",
    "id": "Zz4KEVZ7IP1s"
   },
   "source": [
    "Based on the final initial weights of the last dense layers, the neurons are sorted and 20% of least weight neurons are removed "
   ]
  },
  {
   "cell_type": "code",
   "execution_count": 0,
   "metadata": {
    "colab": {
     "base_uri": "https://localhost:8080/",
     "height": 35
    },
    "colab_type": "code",
    "collapsed": false,
    "id": "14DRAZR_ynvc",
    "outputId": "c57cd5ab-9c0d-47d9-a4a7-d5a89545e818"
   },
   "outputs": [
    {
     "data": {
      "text/plain": [
       "(256, 362)"
      ]
     },
     "execution_count": 23,
     "metadata": {
      "tags": []
     },
     "output_type": "execute_result"
    }
   ],
   "source": [
    "dense3_w[0].shape"
   ]
  },
  {
   "cell_type": "code",
   "execution_count": 0,
   "metadata": {
    "colab": {
     "base_uri": "https://localhost:8080/",
     "height": 203
    },
    "colab_type": "code",
    "collapsed": false,
    "id": "nxn6N4lhOjGn",
    "outputId": "1b1d10e0-e27e-4cf4-b950-216d2cc10087"
   },
   "outputs": [
    {
     "ename": "ValueError",
     "evalue": "ignored",
     "output_type": "error",
     "traceback": [
      "\u001b[0;31m---------------------------------------------------------------------------\u001b[0m",
      "\u001b[0;31mValueError\u001b[0m                                Traceback (most recent call last)",
      "\u001b[0;32m<ipython-input-22-958701ed52d9>\u001b[0m in \u001b[0;36m<module>\u001b[0;34m()\u001b[0m\n\u001b[1;32m      8\u001b[0m   \u001b[0;31m#print(len(new_w))\u001b[0m\u001b[0;34m\u001b[0m\u001b[0;34m\u001b[0m\u001b[0;34m\u001b[0m\u001b[0m\n\u001b[1;32m      9\u001b[0m \u001b[0;34m\u001b[0m\u001b[0m\n\u001b[0;32m---> 10\u001b[0;31m   \u001b[0mdense3_w_new\u001b[0m\u001b[0;34m[\u001b[0m\u001b[0mi\u001b[0m\u001b[0;34m]\u001b[0m \u001b[0;34m=\u001b[0m \u001b[0;34m[\u001b[0m\u001b[0mw\u001b[0m \u001b[0;32mfor\u001b[0m \u001b[0mw\u001b[0m \u001b[0;32min\u001b[0m \u001b[0mx\u001b[0m \u001b[0;32mif\u001b[0m \u001b[0mabs\u001b[0m\u001b[0;34m(\u001b[0m\u001b[0mw\u001b[0m\u001b[0;34m)\u001b[0m \u001b[0;32min\u001b[0m \u001b[0mnew_w\u001b[0m \u001b[0;34m]\u001b[0m\u001b[0;34m\u001b[0m\u001b[0;34m\u001b[0m\u001b[0m\n\u001b[0m",
      "\u001b[0;31mValueError\u001b[0m: cannot copy sequence with size 158 to array axis with dimension 308"
     ]
    }
   ],
   "source": [
    "#removing 20% of neurons with low weights \n",
    "num_lowWeightNeurons = math.floor((40*output_shape)/100)\n",
    "new_OutShape = output_shape - num_lowWeightNeurons\n",
    "dense3_w_new = np.empty((input_shape,new_OutShape))\n",
    "for x,i in zip(dense3_w[0], range(len(dense3_w[0]))):\n",
    "  x_abs = abs(x)\n",
    "  x_abs = np.sort(x_abs)\n",
    "  new_w = x_abs[num_lowWeightNeurons:]\n",
    "  #print(len(new_w))\n",
    "  \n",
    "  dense3_w_new[i] = [w for w in x if abs(w) in new_w ]"
   ]
  },
  {
   "cell_type": "code",
   "execution_count": 0,
   "metadata": {
    "colab": {},
    "colab_type": "code",
    "collapsed": true,
    "id": "H56K5j7EVTR1"
   },
   "outputs": [],
   "source": [
    "#removing bias of 20% of neurons with low weights\n",
    "new_bias = np.empty((new_OutShape,))\n",
    "y = dense3_w[1]\n",
    "x_abs = abs(dense3_w[1])\n",
    "x_abs = np.sort(x_abs)\n",
    "new_b = x_abs[num_lowWeightNeurons:]\n",
    "new_bias = [w for w in y if abs(w) in new_b ]\n",
    "new_bias= np.asarray(new_bias)"
   ]
  },
  {
   "cell_type": "code",
   "execution_count": 0,
   "metadata": {
    "colab": {
     "base_uri": "https://localhost:8080/",
     "height": 475
    },
    "colab_type": "code",
    "collapsed": false,
    "id": "Sn7pNhPpc8yy",
    "outputId": "0e717735-3e46-458b-8605-bdff70a41bae"
   },
   "outputs": [
    {
     "data": {
      "text/plain": [
       "Text(0,0.5,'Number of Weights')"
      ]
     },
     "execution_count": 25,
     "metadata": {
      "tags": []
     },
     "output_type": "execute_result"
    },
    {
     "data": {
      "image/png": "[encoded data removed]",
      "text/plain": [
       "<matplotlib.figure.Figure at 0x7f7bf0102be0>"
      ]
     },
     "metadata": {
      "tags": []
     },
     "output_type": "display_data"
    }
   ],
   "source": [
    "#plot initial weight distribution\n",
    "ax = dist_plot(dense3_w,plt_range= (-0.2, 0.2))\n",
    "ax.set_title('Weights distribution')\n",
    "ax.set_xlabel('Weights values')\n",
    "ax.set_ylabel('Number of Weights')"
   ]
  },
  {
   "cell_type": "markdown",
   "metadata": {
    "colab_type": "text",
    "id": "7d1Un7lcOM7M"
   },
   "source": [
    "The above plot shows the initial weight distribution "
   ]
  },
  {
   "cell_type": "code",
   "execution_count": 0,
   "metadata": {
    "colab": {},
    "colab_type": "code",
    "collapsed": true,
    "id": "8lzf3WRKYv-h"
   },
   "outputs": [],
   "source": [
    "#creating new weight matrix for last dense layer \n",
    "dense3_w[0] = dense3_w_new\n",
    "dense3_w[1] = new_bias"
   ]
  },
  {
   "cell_type": "code",
   "execution_count": 0,
   "metadata": {
    "colab": {
     "base_uri": "https://localhost:8080/",
     "height": 475
    },
    "colab_type": "code",
    "collapsed": false,
    "id": "t6gGWrHYdPK8",
    "outputId": "ee128a05-6a99-467c-818d-33c8fff42b59"
   },
   "outputs": [
    {
     "data": {
      "text/plain": [
       "Text(0,0.5,'Number of Weights')"
      ]
     },
     "execution_count": 27,
     "metadata": {
      "tags": []
     },
     "output_type": "execute_result"
    },
    {
     "data": {
      "image/png": "[encoded data removed]",
      "text/plain": [
       "<matplotlib.figure.Figure at 0x7f7bf015fdd8>"
      ]
     },
     "metadata": {
      "tags": []
     },
     "output_type": "display_data"
    }
   ],
   "source": [
    "#plot new weight distribution\n",
    "ax = dist_plot(dense3_w,plt_range= (-0.2, 0.2))\n",
    "ax.set_title('Weights distribution')\n",
    "ax.set_xlabel('Weights values')\n",
    "ax.set_ylabel('Number of Weights')"
   ]
  },
  {
   "cell_type": "markdown",
   "metadata": {
    "colab_type": "text",
    "id": "L2v3J_dvsiR6"
   },
   "source": [
    "From the above plot , we can see that low weights have been removed "
   ]
  },
  {
   "cell_type": "markdown",
   "metadata": {
    "colab_type": "text",
    "id": "VxEvMjaUOc_5"
   },
   "source": [
    "Creating new CNN model by changing the shape and weights of last dense layer"
   ]
  },
  {
   "cell_type": "code",
   "execution_count": 0,
   "metadata": {
    "colab": {
     "base_uri": "https://localhost:8080/",
     "height": 70
    },
    "colab_type": "code",
    "collapsed": false,
    "id": "3Xg1-q25VVe5",
    "outputId": "5bd58458-aa51-4ff7-95ee-9284face462d"
   },
   "outputs": [
    {
     "name": "stdout",
     "output_type": "stream",
     "text": [
      "10000/10000 [==============================] - 2s 169us/step\n",
      "Test loss: 13.563403826904297\n",
      "Test accuracy: 0.067\n"
     ]
    }
   ],
   "source": [
    "\n",
    "new_model = create_new_model(new_OutShape, x_train, y_train, x_test, y_test,conv1_w, conv2_w, dense1_w, dense2_w, dense3_w)"
   ]
  },
  {
   "cell_type": "markdown",
   "metadata": {
    "colab_type": "text",
    "id": "PikGcNABrBNt"
   },
   "source": [
    "#### Retraining the model   \n",
    "Removing the neurons makes the accuracy of the network worse as we are throwing away what the network has learnt , even if it did not have much importance. In order to compensate for this , we need to retrain the model. \n",
    "\n",
    "Retraining is done by model.fit(). Here we retrain for less number of epochs and lower learning rate as the model is already trained,we only want to make small changes to tweak the results."
   ]
  },
  {
   "cell_type": "code",
   "execution_count": 0,
   "metadata": {
    "colab": {
     "base_uri": "https://localhost:8080/",
     "height": 464
    },
    "colab_type": "code",
    "collapsed": false,
    "id": "oHCMy6KojC6b",
    "outputId": "e0bcd226-a795-48c6-c5d7-3647918ceafa"
   },
   "outputs": [
    {
     "name": "stdout",
     "output_type": "stream",
     "text": [
      "Train on 50000 samples, validate on 10000 samples\n",
      "Epoch 1/10\n",
      "50000/50000 [==============================] - 12s 232us/step - loss: 8.2301 - acc: 0.3992 - val_loss: 2.9442 - val_acc: 0.5830\n",
      "Epoch 2/10\n",
      "50000/50000 [==============================] - 11s 226us/step - loss: 2.3153 - acc: 0.4823 - val_loss: 1.2732 - val_acc: 0.5862\n",
      "Epoch 3/10\n",
      "50000/50000 [==============================] - 11s 230us/step - loss: 1.2767 - acc: 0.5802 - val_loss: 1.0784 - val_acc: 0.6526\n",
      "Epoch 4/10\n",
      "50000/50000 [==============================] - 11s 211us/step - loss: 1.1134 - acc: 0.6286 - val_loss: 1.0168 - val_acc: 0.6615\n",
      "Epoch 5/10\n",
      "50000/50000 [==============================] - 11s 214us/step - loss: 1.0327 - acc: 0.6535 - val_loss: 0.9809 - val_acc: 0.6779\n",
      "Epoch 6/10\n",
      "50000/50000 [==============================] - 11s 211us/step - loss: 0.9859 - acc: 0.6692 - val_loss: 0.9494 - val_acc: 0.6872\n",
      "Epoch 7/10\n",
      "50000/50000 [==============================] - 11s 222us/step - loss: 0.9466 - acc: 0.6801 - val_loss: 0.9332 - val_acc: 0.6893\n",
      "Epoch 8/10\n",
      "50000/50000 [==============================] - 11s 228us/step - loss: 0.9158 - acc: 0.6918 - val_loss: 0.9398 - val_acc: 0.6851\n",
      "Epoch 9/10\n",
      "50000/50000 [==============================] - 11s 228us/step - loss: 0.8991 - acc: 0.6983 - val_loss: 0.9192 - val_acc: 0.6971\n",
      "Epoch 10/10\n",
      "50000/50000 [==============================] - 11s 229us/step - loss: 0.8771 - acc: 0.7059 - val_loss: 0.9352 - val_acc: 0.7000\n",
      "10000/10000 [==============================] - 1s 116us/step\n",
      "Test loss: 0.9352227452278137\n",
      "Test accuracy: 0.7\n"
     ]
    }
   ],
   "source": [
    "#retrain new model\n",
    "retrain_new_model(new_model)"
   ]
  },
  {
   "cell_type": "code",
   "execution_count": 0,
   "metadata": {
    "colab": {
     "base_uri": "https://localhost:8080/",
     "height": 604
    },
    "colab_type": "code",
    "collapsed": false,
    "id": "4Z5YIfb7O4Ic",
    "outputId": "6f25c555-74c0-4f5b-def2-ad20d0b96f12"
   },
   "outputs": [
    {
     "name": "stdout",
     "output_type": "stream",
     "text": [
      "_________________________________________________________________\n",
      "Layer (type)                 Output Shape              Param #   \n",
      "=================================================================\n",
      "conv2d_5 (Conv2D)            (None, 32, 32, 32)        896       \n",
      "_________________________________________________________________\n",
      "max_pooling2d_5 (MaxPooling2 (None, 16, 16, 32)        0         \n",
      "_________________________________________________________________\n",
      "dropout_7 (Dropout)          (None, 16, 16, 32)        0         \n",
      "_________________________________________________________________\n",
      "conv2d_6 (Conv2D)            (None, 16, 16, 64)        18496     \n",
      "_________________________________________________________________\n",
      "max_pooling2d_6 (MaxPooling2 (None, 8, 8, 64)          0         \n",
      "_________________________________________________________________\n",
      "dropout_8 (Dropout)          (None, 8, 8, 64)          0         \n",
      "_________________________________________________________________\n",
      "flatten_3 (Flatten)          (None, 4096)              0         \n",
      "_________________________________________________________________\n",
      "dense_9 (Dense)              (None, 128)               524416    \n",
      "_________________________________________________________________\n",
      "dense_10 (Dense)             (None, 256)               33024     \n",
      "_________________________________________________________________\n",
      "dense_11 (Dense)             (None, 410)               105370    \n",
      "_________________________________________________________________\n",
      "dropout_9 (Dropout)          (None, 410)               0         \n",
      "_________________________________________________________________\n",
      "dense_12 (Dense)             (None, 10)                4110      \n",
      "_________________________________________________________________\n",
      "activation_3 (Activation)    (None, 10)                0         \n",
      "=================================================================\n",
      "Total params: 686,312\n",
      "Trainable params: 686,312\n",
      "Non-trainable params: 0\n",
      "_________________________________________________________________\n"
     ]
    }
   ],
   "source": [
    "new_model.summary()"
   ]
  },
  {
   "cell_type": "code",
   "execution_count": 0,
   "metadata": {
    "colab": {
     "base_uri": "https://localhost:8080/",
     "height": 467
    },
    "colab_type": "code",
    "collapsed": false,
    "id": "l8EMioumLdiJ",
    "outputId": "009c5fdd-1dd4-4eac-99be-42d76a23a868"
   },
   "outputs": [
    {
     "name": "stdout",
     "output_type": "stream",
     "text": [
      "           OPERATION           DATA DIMENSIONS   WEIGHTS(N)   WEIGHTS(%)\n",
      "\n",
      "               Input   #####     32   32    3\n",
      "              Conv2D    \\|/  -------------------       896     0.1%\n",
      "                relu   #####     32   32   32\n",
      "        MaxPooling2D   Y max -------------------         0     0.0%\n",
      "                       #####     16   16   32\n",
      "             Dropout    | || -------------------         0     0.0%\n",
      "                       #####     16   16   32\n",
      "              Conv2D    \\|/  -------------------     18496     2.6%\n",
      "                relu   #####     16   16   64\n",
      "        MaxPooling2D   Y max -------------------         0     0.0%\n",
      "                       #####      8    8   64\n",
      "             Dropout    | || -------------------         0     0.0%\n",
      "                       #####      8    8   64\n",
      "             Flatten   ||||| -------------------         0     0.0%\n",
      "                       #####        4096\n",
      "               Dense   XXXXX -------------------    524416    73.5%\n",
      "                relu   #####         128\n",
      "               Dense   XXXXX -------------------     33024     4.6%\n",
      "                relu   #####         256\n",
      "               Dense   XXXXX -------------------    131584    18.4%\n",
      "                relu   #####         512\n",
      "             Dropout    | || -------------------         0     0.0%\n",
      "                       #####         512\n",
      "               Dense   XXXXX -------------------      5130     0.7%\n",
      "             softmax   #####          10\n"
     ]
    }
   ],
   "source": [
    "sequential_model_to_ascii_printout(model)"
   ]
  },
  {
   "cell_type": "code",
   "execution_count": 0,
   "metadata": {
    "colab": {
     "base_uri": "https://localhost:8080/",
     "height": 467
    },
    "colab_type": "code",
    "collapsed": false,
    "id": "TeSPRdMOO6zH",
    "outputId": "60b4654e-4fa5-4967-bfe6-58ccac44be47"
   },
   "outputs": [
    {
     "name": "stdout",
     "output_type": "stream",
     "text": [
      "           OPERATION           DATA DIMENSIONS   WEIGHTS(N)   WEIGHTS(%)\n",
      "\n",
      "               Input   #####     32   32    3\n",
      "              Conv2D    \\|/  -------------------       896     0.1%\n",
      "                relu   #####     32   32   32\n",
      "        MaxPooling2D   Y max -------------------         0     0.0%\n",
      "                       #####     16   16   32\n",
      "             Dropout    | || -------------------         0     0.0%\n",
      "                       #####     16   16   32\n",
      "              Conv2D    \\|/  -------------------     18496     2.7%\n",
      "                relu   #####     16   16   64\n",
      "        MaxPooling2D   Y max -------------------         0     0.0%\n",
      "                       #####      8    8   64\n",
      "             Dropout    | || -------------------         0     0.0%\n",
      "                       #####      8    8   64\n",
      "             Flatten   ||||| -------------------         0     0.0%\n",
      "                       #####        4096\n",
      "               Dense   XXXXX -------------------    524416    76.4%\n",
      "                relu   #####         128\n",
      "               Dense   XXXXX -------------------     33024     4.8%\n",
      "                relu   #####         256\n",
      "               Dense   XXXXX -------------------    105370    15.4%\n",
      "                relu   #####         410\n",
      "             Dropout    | || -------------------         0     0.0%\n",
      "                       #####         410\n",
      "               Dense   XXXXX -------------------      4110     0.6%\n",
      "             softmax   #####          10\n"
     ]
    }
   ],
   "source": [
    "sequential_model_to_ascii_printout(new_model)"
   ]
  },
  {
   "cell_type": "markdown",
   "metadata": {
    "colab_type": "text",
    "id": "-GbvOKu3tJVq"
   },
   "source": [
    "### Results\n",
    "-----------------------------------------------------------------------------------------------------\n",
    "|        | Inital Model          | Pruned Model  |\n",
    "| ------------- |:-------------:| -----:|\n",
    "| Network Size| 5616Kb |5448Kb |\n",
    "| Number of Parametrs     | 713,546    |  686,312|\n",
    "| Accuracy | 71.47%    |    70% |"
   ]
  },
  {
   "cell_type": "markdown",
   "metadata": {
    "colab_type": "text",
    "id": "HD1uRApMtgaP"
   },
   "source": [
    "**Summary**  \n",
    "Network size is reduced by **200kb**   \n",
    "Accuracy reduced by **1.5%**  \n",
    "New model has **30k less parameters**"
   ]
  },
  {
   "cell_type": "markdown",
   "metadata": {
    "colab_type": "text",
    "id": "fK14vhy0XCBE"
   },
   "source": [
    "References :  \n",
    "\n",
    "https://github.com/keras-team/keras/blob/master/examples/cifar10_cnn.py  \n",
    "https://github.com/ex4sperans/pruning_with_tensorflow  \n",
    "https://www.tensorflow.org/api_docs/python  \n",
    "https://gist.github.com/hollance/d15c0cc6004a5479c00ac26bce61ac8d  \n",
    "https://keras.io/getting-started/faq/  \n"
   ]
  },
  {
   "cell_type": "markdown",
   "metadata": {
    "colab_type": "text",
    "id": "97RGNLcK1wiS"
   },
   "source": [
    "'''MIT License\n",
    "\n",
    "Copyright (c) 2018 CSYE-7245 Big Data System and Intelligence Analytics\n",
    "\n",
    "Permission is hereby granted, free of charge, to any person obtaining a copy\n",
    "of this software and associated documentation files (the \"Software\"), to deal\n",
    "in the Software without restriction, including without limitation the rights\n",
    "to use, copy, modify, merge, publish, distribute, sublicense, and/or sell\n",
    "copies of the Software, and to permit persons to whom the Software is\n",
    "furnished to do so, subject to the following conditions:\n",
    "\n",
    "The above copyright notice and this permission notice shall be included in all\n",
    "copies or substantial portions of the Software.\n",
    "\n",
    "THE SOFTWARE IS PROVIDED \"AS IS\", WITHOUT WARRANTY OF ANY KIND, EXPRESS OR\n",
    "IMPLIED, INCLUDING BUT NOT LIMITED TO THE WARRANTIES OF MERCHANTABILITY,\n",
    "FITNESS FOR A PARTICULAR PURPOSE AND NONINFRINGEMENT. IN NO EVENT SHALL THE\n",
    "AUTHORS OR COPYRIGHT HOLDERS BE LIABLE FOR ANY CLAIM, DAMAGES OR OTHER\n",
    "LIABILITY, WHETHER IN AN ACTION OF CONTRACT, TORT OR OTHERWISE, ARISING FROM,\n",
    "OUT OF OR IN CONNECTION WITH THE SOFTWARE OR THE USE OR OTHER DEALINGS IN THE\n",
    "SOFTWARE.'''"
   ]
  }
 ],
 "metadata": {
  "accelerator": "GPU",
  "anaconda-cloud": {},
  "colab": {
   "collapsed_sections": [],
   "name": "CIFAR10 using Keras.ipynb",
   "provenance": [],
   "toc_visible": true,
   "version": "0.3.2"
  },
  "kernelspec": {
   "display_name": "Python [default]",
   "language": "python",
   "name": "python3"
  },
  "language_info": {
   "codemirror_mode": {
    "name": "ipython",
    "version": 3
   },
   "file_extension": ".py",
   "mimetype": "text/x-python",
   "name": "python",
   "nbconvert_exporter": "python",
   "pygments_lexer": "ipython3",
   "version": "3.5.2"
  }
 },
 "nbformat": 4,
 "nbformat_minor": 0
}
